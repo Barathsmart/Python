{
 "cells": [
  {
   "cell_type": "markdown",
   "id": "a43d2a83",
   "metadata": {},
   "source": [
    "# string is a combinantion of character\n",
    "strings are immutable"
   ]
  },
  {
   "cell_type": "code",
   "execution_count": 2,
   "id": "b11a3887",
   "metadata": {},
   "outputs": [],
   "source": [
    "b=\"barath\""
   ]
  },
  {
   "cell_type": "code",
   "execution_count": 3,
   "id": "265457d6",
   "metadata": {},
   "outputs": [
    {
     "data": {
      "text/plain": [
       "str"
      ]
     },
     "execution_count": 3,
     "metadata": {},
     "output_type": "execute_result"
    }
   ],
   "source": [
    "type(b)"
   ]
  },
  {
   "cell_type": "code",
   "execution_count": 4,
   "id": "b484e330",
   "metadata": {},
   "outputs": [
    {
     "data": {
      "text/plain": [
       "'b'"
      ]
     },
     "execution_count": 4,
     "metadata": {},
     "output_type": "execute_result"
    }
   ],
   "source": [
    "b[0] #it always create indexes in a forward direction "
   ]
  },
  {
   "cell_type": "code",
   "execution_count": 5,
   "id": "19e57e56",
   "metadata": {},
   "outputs": [
    {
     "data": {
      "text/plain": [
       "'a'"
      ]
     },
     "execution_count": 5,
     "metadata": {},
     "output_type": "execute_result"
    }
   ],
   "source": [
    "b[1]"
   ]
  },
  {
   "cell_type": "code",
   "execution_count": 6,
   "id": "dbd2577a",
   "metadata": {},
   "outputs": [
    {
     "data": {
      "text/plain": [
       "'r'"
      ]
     },
     "execution_count": 6,
     "metadata": {},
     "output_type": "execute_result"
    }
   ],
   "source": [
    "b[2]"
   ]
  },
  {
   "cell_type": "code",
   "execution_count": 7,
   "id": "d0984c17",
   "metadata": {},
   "outputs": [
    {
     "data": {
      "text/plain": [
       "'h'"
      ]
     },
     "execution_count": 7,
     "metadata": {},
     "output_type": "execute_result"
    }
   ],
   "source": [
    "b[-1]#it create a bacward indexing for negative values "
   ]
  },
  {
   "cell_type": "code",
   "execution_count": 8,
   "id": "ccd82e7e",
   "metadata": {},
   "outputs": [
    {
     "data": {
      "text/plain": [
       "'t'"
      ]
     },
     "execution_count": 8,
     "metadata": {},
     "output_type": "execute_result"
    }
   ],
   "source": [
    "b[-2]"
   ]
  },
  {
   "cell_type": "code",
   "execution_count": 9,
   "id": "6ad16e71",
   "metadata": {},
   "outputs": [],
   "source": [
    "a=\"my name is barath\""
   ]
  },
  {
   "cell_type": "code",
   "execution_count": 10,
   "id": "7036a9d5",
   "metadata": {},
   "outputs": [
    {
     "data": {
      "text/plain": [
       "'m'"
      ]
     },
     "execution_count": 10,
     "metadata": {},
     "output_type": "execute_result"
    }
   ],
   "source": [
    "a[0] #forward start from 0 backward start from -1"
   ]
  },
  {
   "cell_type": "code",
   "execution_count": 11,
   "id": "0d445f68",
   "metadata": {},
   "outputs": [
    {
     "data": {
      "text/plain": [
       "'h'"
      ]
     },
     "execution_count": 11,
     "metadata": {},
     "output_type": "execute_result"
    }
   ],
   "source": [
    "a[-1]"
   ]
  },
  {
   "cell_type": "code",
   "execution_count": 12,
   "id": "5e8ca4ac",
   "metadata": {},
   "outputs": [
    {
     "data": {
      "text/plain": [
       "17"
      ]
     },
     "execution_count": 12,
     "metadata": {},
     "output_type": "execute_result"
    }
   ],
   "source": [
    "len(a)"
   ]
  },
  {
   "cell_type": "code",
   "execution_count": 13,
   "id": "f7306567",
   "metadata": {},
   "outputs": [
    {
     "ename": "IndexError",
     "evalue": "string index out of range",
     "output_type": "error",
     "traceback": [
      "\u001b[0;31m---------------------------------------------------------------------------\u001b[0m",
      "\u001b[0;31mIndexError\u001b[0m                                Traceback (most recent call last)",
      "\u001b[0;32m/tmp/ipykernel_8386/448443745.py\u001b[0m in \u001b[0;36m<module>\u001b[0;34m\u001b[0m\n\u001b[0;32m----> 1\u001b[0;31m \u001b[0ma\u001b[0m\u001b[0;34m[\u001b[0m\u001b[0;36m18\u001b[0m\u001b[0;34m]\u001b[0m\u001b[0;34m\u001b[0m\u001b[0;34m\u001b[0m\u001b[0m\n\u001b[0m",
      "\u001b[0;31mIndexError\u001b[0m: string index out of range"
     ]
    }
   ],
   "source": [
    "a[18] # if you dont have data it throwes error "
   ]
  },
  {
   "cell_type": "code",
   "execution_count": 14,
   "id": "8b191403",
   "metadata": {},
   "outputs": [
    {
     "data": {
      "text/plain": [
       "'my name is'"
      ]
     },
     "execution_count": 14,
     "metadata": {},
     "output_type": "execute_result"
    }
   ],
   "source": [
    "a[0:10] # data set start and end for 0-9 count is ,10 upper bound is excludede always "
   ]
  },
  {
   "cell_type": "code",
   "execution_count": 15,
   "id": "9686abcf",
   "metadata": {},
   "outputs": [],
   "source": [
    "b=\"ajith\""
   ]
  },
  {
   "cell_type": "code",
   "execution_count": 16,
   "id": "cb5b096d",
   "metadata": {},
   "outputs": [
    {
     "data": {
      "text/plain": [
       "'aji'"
      ]
     },
     "execution_count": 16,
     "metadata": {},
     "output_type": "execute_result"
    }
   ],
   "source": [
    "b[0:3] # exclude third location "
   ]
  },
  {
   "cell_type": "code",
   "execution_count": 30,
   "id": "14c11fb1",
   "metadata": {},
   "outputs": [
    {
     "data": {
      "text/plain": [
       "''"
      ]
     },
     "execution_count": 30,
     "metadata": {},
     "output_type": "execute_result"
    }
   ],
   "source": [
    "b[-1:-4]  #why we not get data (positive jump)"
   ]
  },
  {
   "cell_type": "code",
   "execution_count": 31,
   "id": "e4c4445d",
   "metadata": {},
   "outputs": [
    {
     "data": {
      "text/plain": [
       "'ajit'"
      ]
     },
     "execution_count": 31,
     "metadata": {},
     "output_type": "execute_result"
    }
   ],
   "source": [
    "b[0:4]"
   ]
  },
  {
   "cell_type": "code",
   "execution_count": 32,
   "id": "8e236df7",
   "metadata": {},
   "outputs": [],
   "source": [
    "a=\"kumar\""
   ]
  },
  {
   "cell_type": "code",
   "execution_count": null,
   "id": "028124f7",
   "metadata": {},
   "outputs": [],
   "source": []
  },
  {
   "cell_type": "code",
   "execution_count": 34,
   "id": "f6d2306b",
   "metadata": {},
   "outputs": [
    {
     "data": {
      "text/plain": [
       "'kum'"
      ]
     },
     "execution_count": 34,
     "metadata": {},
     "output_type": "execute_result"
    }
   ],
   "source": [
    "a[0:3]"
   ]
  },
  {
   "cell_type": "code",
   "execution_count": 35,
   "id": "44725cb5",
   "metadata": {},
   "outputs": [
    {
     "data": {
      "text/plain": [
       "'kumar'"
      ]
     },
     "execution_count": 35,
     "metadata": {},
     "output_type": "execute_result"
    }
   ],
   "source": [
    "a[0:300:1] #start from 0 end is 300 1 is jump or step size positive one (start,end,jump)"
   ]
  },
  {
   "cell_type": "code",
   "execution_count": 36,
   "id": "c69a0238",
   "metadata": {},
   "outputs": [
    {
     "data": {
      "text/plain": [
       "'kmr'"
      ]
     },
     "execution_count": 36,
     "metadata": {},
     "output_type": "execute_result"
    }
   ],
   "source": [
    "a[0:300:2]# jump second location bcz we mention stepsize 2 "
   ]
  },
  {
   "cell_type": "code",
   "execution_count": 37,
   "id": "13c22fe9",
   "metadata": {},
   "outputs": [
    {
     "data": {
      "text/plain": [
       "'ka'"
      ]
     },
     "execution_count": 37,
     "metadata": {},
     "output_type": "execute_result"
    }
   ],
   "source": [
    "a[0:100:3]# jump 3 location "
   ]
  },
  {
   "cell_type": "code",
   "execution_count": 38,
   "id": "17f30363",
   "metadata": {},
   "outputs": [
    {
     "data": {
      "text/plain": [
       "''"
      ]
     },
     "execution_count": 38,
     "metadata": {},
     "output_type": "execute_result"
    }
   ],
   "source": [
    "a[0:100:-1]# scale concept is there  _________|-5 |-4 |-3 |-2 |-1  |0 |1 |2 |3 |4 |5______"
   ]
  },
  {
   "cell_type": "code",
   "execution_count": 40,
   "id": "15257b67",
   "metadata": {},
   "outputs": [
    {
     "data": {
      "text/plain": [
       "''"
      ]
     },
     "execution_count": 40,
     "metadata": {},
     "output_type": "execute_result"
    }
   ],
   "source": [
    "a[-1:-4:1] #direction -1 to -4 we not mention jump size by default is poistive one bcz of opposite direction travrse it return empty"
   ]
  },
  {
   "cell_type": "code",
   "execution_count": 42,
   "id": "bf21caa7",
   "metadata": {},
   "outputs": [
    {
     "data": {
      "text/plain": [
       "'ram'"
      ]
     },
     "execution_count": 42,
     "metadata": {},
     "output_type": "execute_result"
    }
   ],
   "source": [
    "a[-1:-4:-1]# bcz step size is same direction means "
   ]
  },
  {
   "cell_type": "code",
   "execution_count": 43,
   "id": "7a96fb06",
   "metadata": {},
   "outputs": [
    {
     "data": {
      "text/plain": [
       "'k'"
      ]
     },
     "execution_count": 43,
     "metadata": {},
     "output_type": "execute_result"
    }
   ],
   "source": [
    "a[0:-10:-1]"
   ]
  },
  {
   "cell_type": "code",
   "execution_count": 44,
   "id": "995f47db",
   "metadata": {},
   "outputs": [
    {
     "data": {
      "text/plain": [
       "'kumar'"
      ]
     },
     "execution_count": 44,
     "metadata": {},
     "output_type": "execute_result"
    }
   ],
   "source": [
    "a[::] #not starting not end not jump"
   ]
  },
  {
   "cell_type": "code",
   "execution_count": 45,
   "id": "d6bf7e6f",
   "metadata": {},
   "outputs": [
    {
     "data": {
      "text/plain": [
       "'ramuk'"
      ]
     },
     "execution_count": 45,
     "metadata": {},
     "output_type": "execute_result"
    }
   ],
   "source": [
    "a[::-1]#not start not end but negative side jump(direction only we defined )automatically that direction it move"
   ]
  },
  {
   "cell_type": "code",
   "execution_count": 51,
   "id": "c0cb1981",
   "metadata": {},
   "outputs": [
    {
     "data": {
      "text/plain": [
       "'ramuk'"
      ]
     },
     "execution_count": 51,
     "metadata": {},
     "output_type": "execute_result"
    }
   ],
   "source": [
    "a[-1::-1]"
   ]
  },
  {
   "cell_type": "code",
   "execution_count": 47,
   "id": "0a1a9b23",
   "metadata": {},
   "outputs": [
    {
     "data": {
      "text/plain": [
       "'kumar'"
      ]
     },
     "execution_count": 47,
     "metadata": {},
     "output_type": "execute_result"
    }
   ],
   "source": [
    "a[:8] #start 0 end 7 hole data set "
   ]
  },
  {
   "cell_type": "code",
   "execution_count": 50,
   "id": "86122679",
   "metadata": {},
   "outputs": [
    {
     "data": {
      "text/plain": [
       "'amuk'"
      ]
     },
     "execution_count": 50,
     "metadata": {},
     "output_type": "execute_result"
    }
   ],
   "source": [
    "a[-2::-1] # string traversal"
   ]
  },
  {
   "cell_type": "code",
   "execution_count": 54,
   "id": "3a83fbb9",
   "metadata": {},
   "outputs": [
    {
     "data": {
      "text/plain": [
       "'kumar'"
      ]
     },
     "execution_count": 54,
     "metadata": {},
     "output_type": "execute_result"
    }
   ],
   "source": [
    "a[-5:5]"
   ]
  },
  {
   "cell_type": "code",
   "execution_count": 55,
   "id": "a46a4a89",
   "metadata": {},
   "outputs": [],
   "source": [
    "a=\"im working with insofe\""
   ]
  },
  {
   "cell_type": "code",
   "execution_count": 56,
   "id": "54dfaa8f",
   "metadata": {},
   "outputs": [
    {
     "data": {
      "text/plain": [
       "''"
      ]
     },
     "execution_count": 56,
     "metadata": {},
     "output_type": "execute_result"
    }
   ],
   "source": [
    "a[-5:5]"
   ]
  },
  {
   "cell_type": "code",
   "execution_count": 57,
   "id": "317410d0",
   "metadata": {},
   "outputs": [
    {
     "data": {
      "text/plain": [
       "'ni htiw gnik'"
      ]
     },
     "execution_count": 57,
     "metadata": {},
     "output_type": "execute_result"
    }
   ],
   "source": [
    "a[-5:5:-1]"
   ]
  },
  {
   "cell_type": "code",
   "execution_count": 59,
   "id": "a295ddef",
   "metadata": {},
   "outputs": [
    {
     "data": {
      "text/plain": [
       "'fosni ht'"
      ]
     },
     "execution_count": 59,
     "metadata": {},
     "output_type": "execute_result"
    }
   ],
   "source": [
    "a[-2:-10:-1]"
   ]
  },
  {
   "cell_type": "code",
   "execution_count": 61,
   "id": "8caab999",
   "metadata": {},
   "outputs": [
    {
     "data": {
      "text/plain": [
       "'iw gnikrow '"
      ]
     },
     "execution_count": 61,
     "metadata": {},
     "output_type": "execute_result"
    }
   ],
   "source": [
    "a[-10:1:-1]"
   ]
  },
  {
   "cell_type": "code",
   "execution_count": 62,
   "id": "8fe625a1",
   "metadata": {},
   "outputs": [
    {
     "data": {
      "text/plain": [
       "'iwkgi se'"
      ]
     },
     "execution_count": 62,
     "metadata": {},
     "output_type": "execute_result"
    }
   ],
   "source": [
    "a[0:100:3]"
   ]
  },
  {
   "cell_type": "code",
   "execution_count": 63,
   "id": "2f6ea199",
   "metadata": {},
   "outputs": [
    {
     "data": {
      "text/plain": [
       "'barathbarathbarath'"
      ]
     },
     "execution_count": 63,
     "metadata": {},
     "output_type": "execute_result"
    }
   ],
   "source": [
    "\"barath\"*3 #string multiplication"
   ]
  },
  {
   "cell_type": "code",
   "execution_count": 64,
   "id": "3d1edaf6",
   "metadata": {},
   "outputs": [
    {
     "data": {
      "text/plain": [
       "'baratgkumar'"
      ]
     },
     "execution_count": 64,
     "metadata": {},
     "output_type": "execute_result"
    }
   ],
   "source": [
    "\"baratg\"+\"kumar\" # string concadination"
   ]
  },
  {
   "cell_type": "code",
   "execution_count": 66,
   "id": "e7330a60",
   "metadata": {},
   "outputs": [
    {
     "data": {
      "text/plain": [
       "22"
      ]
     },
     "execution_count": 66,
     "metadata": {},
     "output_type": "execute_result"
    }
   ],
   "source": [
    "len(a)"
   ]
  },
  {
   "cell_type": "code",
   "execution_count": 72,
   "id": "5e463ffa",
   "metadata": {},
   "outputs": [
    {
     "data": {
      "text/plain": [
       "'im working with insofe'"
      ]
     },
     "execution_count": 72,
     "metadata": {},
     "output_type": "execute_result"
    }
   ],
   "source": [
    "a\n"
   ]
  },
  {
   "cell_type": "code",
   "execution_count": 79,
   "id": "e2b0c514",
   "metadata": {},
   "outputs": [
    {
     "data": {
      "text/plain": [
       "3"
      ]
     },
     "execution_count": 79,
     "metadata": {},
     "output_type": "execute_result"
    }
   ],
   "source": [
    "a.find('w')#its work for first occurance space also one index"
   ]
  },
  {
   "cell_type": "code",
   "execution_count": 80,
   "id": "6106168a",
   "metadata": {},
   "outputs": [
    {
     "data": {
      "text/plain": [
       "-1"
      ]
     },
     "execution_count": 80,
     "metadata": {},
     "output_type": "execute_result"
    }
   ],
   "source": [
    "a.find(\"ia\")#if not able to find out it return -1 a.cou"
   ]
  },
  {
   "cell_type": "code",
   "execution_count": 81,
   "id": "8ae91773",
   "metadata": {},
   "outputs": [
    {
     "data": {
      "text/plain": [
       "4"
      ]
     },
     "execution_count": 81,
     "metadata": {},
     "output_type": "execute_result"
    }
   ],
   "source": [
    "a.count('i') # how many times it ocuur"
   ]
  },
  {
   "cell_type": "code",
   "execution_count": 82,
   "id": "c094c6af",
   "metadata": {},
   "outputs": [
    {
     "data": {
      "text/plain": [
       "'im working with insofe'"
      ]
     },
     "execution_count": 82,
     "metadata": {},
     "output_type": "execute_result"
    }
   ],
   "source": [
    "a"
   ]
  },
  {
   "cell_type": "code",
   "execution_count": 85,
   "id": "af8474c6",
   "metadata": {},
   "outputs": [],
   "source": [
    "l=a.split() # it return a ne kind of list separte "
   ]
  },
  {
   "cell_type": "code",
   "execution_count": 84,
   "id": "62e98483",
   "metadata": {},
   "outputs": [
    {
     "data": {
      "text/plain": [
       "list"
      ]
     },
     "execution_count": 84,
     "metadata": {},
     "output_type": "execute_result"
    }
   ],
   "source": [
    "type(a.split())# by default spliter is white space"
   ]
  },
  {
   "cell_type": "code",
   "execution_count": 86,
   "id": "f070d45e",
   "metadata": {},
   "outputs": [
    {
     "data": {
      "text/plain": [
       "['im', 'working', 'with', 'insofe']"
      ]
     },
     "execution_count": 86,
     "metadata": {},
     "output_type": "execute_result"
    }
   ],
   "source": [
    "l"
   ]
  },
  {
   "cell_type": "code",
   "execution_count": 87,
   "id": "9bfaa97a",
   "metadata": {},
   "outputs": [
    {
     "data": {
      "text/plain": [
       "'im'"
      ]
     },
     "execution_count": 87,
     "metadata": {},
     "output_type": "execute_result"
    }
   ],
   "source": [
    "l[0]"
   ]
  },
  {
   "cell_type": "code",
   "execution_count": 88,
   "id": "a41d4615",
   "metadata": {},
   "outputs": [
    {
     "data": {
      "text/plain": [
       "'with'"
      ]
     },
     "execution_count": 88,
     "metadata": {},
     "output_type": "execute_result"
    }
   ],
   "source": [
    "l[2]"
   ]
  },
  {
   "cell_type": "code",
   "execution_count": 89,
   "id": "9168db7d",
   "metadata": {},
   "outputs": [
    {
     "data": {
      "text/plain": [
       "['im', 'working', 'with']"
      ]
     },
     "execution_count": 89,
     "metadata": {},
     "output_type": "execute_result"
    }
   ],
   "source": [
    "l[0:3]"
   ]
  },
  {
   "cell_type": "code",
   "execution_count": 91,
   "id": "6351cbf8",
   "metadata": {},
   "outputs": [
    {
     "data": {
      "text/plain": [
       "['im ', 'orking ', 'ith insofe']"
      ]
     },
     "execution_count": 91,
     "metadata": {},
     "output_type": "execute_result"
    }
   ],
   "source": [
    "a.split('w')#here W is my split delimiter"
   ]
  },
  {
   "cell_type": "code",
   "execution_count": 92,
   "id": "7685b601",
   "metadata": {},
   "outputs": [
    {
     "data": {
      "text/plain": [
       "['im working with insofe']"
      ]
     },
     "execution_count": 92,
     "metadata": {},
     "output_type": "execute_result"
    }
   ],
   "source": [
    "a.split(',')# based on what ever delimitr we can split"
   ]
  },
  {
   "cell_type": "code",
   "execution_count": 93,
   "id": "6ba798a8",
   "metadata": {},
   "outputs": [
    {
     "data": {
      "text/plain": [
       "'IM WORKING WITH INSOFE'"
      ]
     },
     "execution_count": 93,
     "metadata": {},
     "output_type": "execute_result"
    }
   ],
   "source": [
    "a.upper() # all character into upper case"
   ]
  },
  {
   "cell_type": "code",
   "execution_count": 94,
   "id": "ae991d60",
   "metadata": {},
   "outputs": [],
   "source": [
    "s=\"bAraTh\""
   ]
  },
  {
   "cell_type": "code",
   "execution_count": 95,
   "id": "a20bff6a",
   "metadata": {},
   "outputs": [
    {
     "data": {
      "text/plain": [
       "'BaRAtH'"
      ]
     },
     "execution_count": 95,
     "metadata": {},
     "output_type": "execute_result"
    }
   ],
   "source": [
    "s.swapcase()#upper to lower conversion"
   ]
  },
  {
   "cell_type": "code",
   "execution_count": 99,
   "id": "45f97229",
   "metadata": {},
   "outputs": [
    {
     "data": {
      "text/plain": [
       "'Barath'"
      ]
     },
     "execution_count": 99,
     "metadata": {},
     "output_type": "execute_result"
    }
   ],
   "source": [
    "s.title()# very first character of word is capital "
   ]
  },
  {
   "cell_type": "code",
   "execution_count": 100,
   "id": "77f63941",
   "metadata": {},
   "outputs": [
    {
     "data": {
      "text/plain": [
       "'Barath'"
      ]
     },
     "execution_count": 100,
     "metadata": {},
     "output_type": "execute_result"
    }
   ],
   "source": [
    "s.capitalize()#Return a capitalized version of the string"
   ]
  },
  {
   "cell_type": "code",
   "execution_count": 101,
   "id": "c57682a1",
   "metadata": {},
   "outputs": [],
   "source": [
    "b=\"bara\"\n",
    "c=\"insofe\""
   ]
  },
  {
   "cell_type": "code",
   "execution_count": 102,
   "id": "cfd976e8",
   "metadata": {},
   "outputs": [
    {
     "data": {
      "text/plain": [
       "'ibaranbarasbaraobarafbarae'"
      ]
     },
     "execution_count": 102,
     "metadata": {},
     "output_type": "execute_result"
    }
   ],
   "source": [
    "b.join(c)#after every character it join \"bara\""
   ]
  },
  {
   "cell_type": "code",
   "execution_count": 109,
   "id": "84b1159f",
   "metadata": {},
   "outputs": [
    {
     "data": {
      "text/plain": [
       "'b**a**r**a'"
      ]
     },
     "execution_count": 109,
     "metadata": {},
     "output_type": "execute_result"
    }
   ],
   "source": [
    "\"**\".join(b)#it add * after evry character in a string"
   ]
  },
  {
   "cell_type": "code",
   "execution_count": 110,
   "id": "6674eaf9",
   "metadata": {},
   "outputs": [
    {
     "data": {
      "text/plain": [
       "'i????n????s????o????f????e'"
      ]
     },
     "execution_count": 110,
     "metadata": {},
     "output_type": "execute_result"
    }
   ],
   "source": [
    "\"????\".join(c)"
   ]
  },
  {
   "cell_type": "code",
   "execution_count": 112,
   "id": "765b115a",
   "metadata": {},
   "outputs": [
    {
     "data": {
      "text/plain": [
       "<reversed at 0x7f443fe3cd90>"
      ]
     },
     "execution_count": 112,
     "metadata": {},
     "output_type": "execute_result"
    }
   ],
   "source": [
    "reversed(\"insofe\")"
   ]
  },
  {
   "cell_type": "code",
   "execution_count": 116,
   "id": "761b2049",
   "metadata": {},
   "outputs": [
    {
     "name": "stdout",
     "output_type": "stream",
     "text": [
      "h \n",
      "t \n",
      "a \n",
      "r \n",
      "a \n",
      "b \n"
     ]
    }
   ],
   "source": [
    "for i in reversed(\"barath\"):\n",
    "    print(i,)"
   ]
  },
  {
   "cell_type": "code",
   "execution_count": 114,
   "id": "2a5e19e6",
   "metadata": {},
   "outputs": [
    {
     "data": {
      "text/plain": [
       "'htarab'"
      ]
     },
     "execution_count": 114,
     "metadata": {},
     "output_type": "execute_result"
    }
   ],
   "source": [
    "s=\"barath\"\n",
    "s[::-1]"
   ]
  },
  {
   "cell_type": "code",
   "execution_count": 117,
   "id": "da88b36f",
   "metadata": {},
   "outputs": [],
   "source": [
    "s=\" ajith \""
   ]
  },
  {
   "cell_type": "code",
   "execution_count": 118,
   "id": "406401e3",
   "metadata": {},
   "outputs": [
    {
     "data": {
      "text/plain": [
       "' ajith'"
      ]
     },
     "execution_count": 118,
     "metadata": {},
     "output_type": "execute_result"
    }
   ],
   "source": [
    "s.rstrip()#right  hand side strip means remove right side space"
   ]
  },
  {
   "cell_type": "code",
   "execution_count": 120,
   "id": "4e4736f4",
   "metadata": {},
   "outputs": [
    {
     "data": {
      "text/plain": [
       "'ajith '"
      ]
     },
     "execution_count": 120,
     "metadata": {},
     "output_type": "execute_result"
    }
   ],
   "source": [
    "s.lstrip()#left side space removed "
   ]
  },
  {
   "cell_type": "code",
   "execution_count": 121,
   "id": "ec1d7109",
   "metadata": {},
   "outputs": [
    {
     "data": {
      "text/plain": [
       "'ajith'"
      ]
     },
     "execution_count": 121,
     "metadata": {},
     "output_type": "execute_result"
    }
   ],
   "source": [
    "s.strip()#both side space removed"
   ]
  },
  {
   "cell_type": "code",
   "execution_count": 122,
   "id": "cbb2f436",
   "metadata": {},
   "outputs": [],
   "source": [
    "s=\"bara\""
   ]
  },
  {
   "cell_type": "code",
   "execution_count": 124,
   "id": "b1d8a250",
   "metadata": {},
   "outputs": [
    {
     "data": {
      "text/plain": [
       "'bxyzrxyz'"
      ]
     },
     "execution_count": 124,
     "metadata": {},
     "output_type": "execute_result"
    }
   ],
   "source": [
    "s.replace(\"a\",\"xyz\")#old string with new string "
   ]
  },
  {
   "cell_type": "code",
   "execution_count": 125,
   "id": "9ab76cd7",
   "metadata": {},
   "outputs": [
    {
     "data": {
      "text/plain": [
       "'bara'"
      ]
     },
     "execution_count": 125,
     "metadata": {},
     "output_type": "execute_result"
    }
   ],
   "source": [
    "s.replace(\"t\",\"ok\")# t is not there so it return same"
   ]
  },
  {
   "cell_type": "code",
   "execution_count": 127,
   "id": "4fd97887",
   "metadata": {},
   "outputs": [
    {
     "data": {
      "text/plain": [
       "'barath  kumar'"
      ]
     },
     "execution_count": 127,
     "metadata": {},
     "output_type": "execute_result"
    }
   ],
   "source": [
    " \"barath\\tkumar\".expandtabs()#\\t means 3 spaces expanding"
   ]
  },
  {
   "cell_type": "code",
   "execution_count": 129,
   "id": "42dc79a7",
   "metadata": {},
   "outputs": [
    {
     "data": {
      "text/plain": [
       "'tttbarattt'"
      ]
     },
     "execution_count": 129,
     "metadata": {},
     "output_type": "execute_result"
    }
   ],
   "source": [
    "s.center(10,'t')#return centr string fill with word"
   ]
  },
  {
   "cell_type": "code",
   "execution_count": 130,
   "id": "e1e60517",
   "metadata": {},
   "outputs": [
    {
     "data": {
      "text/plain": [
       "'#bara'"
      ]
     },
     "execution_count": 130,
     "metadata": {},
     "output_type": "execute_result"
    }
   ],
   "source": [
    "s.center(5,\"#\")#total no of chracter is 5 "
   ]
  },
  {
   "cell_type": "code",
   "execution_count": 131,
   "id": "9cffccdf",
   "metadata": {},
   "outputs": [
    {
     "data": {
      "text/plain": [
       "'######bara#####'"
      ]
     },
     "execution_count": 131,
     "metadata": {},
     "output_type": "execute_result"
    }
   ],
   "source": [
    "s.center(15,\"#\")"
   ]
  },
  {
   "cell_type": "code",
   "execution_count": 132,
   "id": "93819e34",
   "metadata": {},
   "outputs": [],
   "source": [
    "b=\"bara\""
   ]
  },
  {
   "cell_type": "code",
   "execution_count": 133,
   "id": "5f594534",
   "metadata": {},
   "outputs": [
    {
     "data": {
      "text/plain": [
       "True"
      ]
     },
     "execution_count": 133,
     "metadata": {},
     "output_type": "execute_result"
    }
   ],
   "source": [
    "s.isascii()#starting is its a condition check and return true or flase only "
   ]
  },
  {
   "cell_type": "code",
   "execution_count": 134,
   "id": "4c2b169d",
   "metadata": {},
   "outputs": [
    {
     "data": {
      "text/plain": [
       "False"
      ]
     },
     "execution_count": 134,
     "metadata": {},
     "output_type": "execute_result"
    }
   ],
   "source": [
    "s.isupper()# check all charcter is upper"
   ]
  },
  {
   "cell_type": "code",
   "execution_count": 135,
   "id": "5b05b89e",
   "metadata": {},
   "outputs": [
    {
     "data": {
      "text/plain": [
       "True"
      ]
     },
     "execution_count": 135,
     "metadata": {},
     "output_type": "execute_result"
    }
   ],
   "source": [
    "s.islower()#check all character is lower"
   ]
  },
  {
   "cell_type": "code",
   "execution_count": 136,
   "id": "bf38ee10",
   "metadata": {},
   "outputs": [],
   "source": [
    "s=\"   barath\""
   ]
  },
  {
   "cell_type": "code",
   "execution_count": 137,
   "id": "4baf96c5",
   "metadata": {},
   "outputs": [
    {
     "data": {
      "text/plain": [
       "False"
      ]
     },
     "execution_count": 137,
     "metadata": {},
     "output_type": "execute_result"
    }
   ],
   "source": [
    "s.isspace()"
   ]
  },
  {
   "cell_type": "code",
   "execution_count": 138,
   "id": "fb68627d",
   "metadata": {},
   "outputs": [],
   "source": [
    "z=\"   \""
   ]
  },
  {
   "cell_type": "code",
   "execution_count": 139,
   "id": "7f411eb3",
   "metadata": {},
   "outputs": [
    {
     "data": {
      "text/plain": [
       "True"
      ]
     },
     "execution_count": 139,
     "metadata": {},
     "output_type": "execute_result"
    }
   ],
   "source": [
    "z.isspace()#complete string is space"
   ]
  },
  {
   "cell_type": "code",
   "execution_count": 140,
   "id": "5483e3da",
   "metadata": {},
   "outputs": [],
   "source": [
    "k=\"36533\""
   ]
  },
  {
   "cell_type": "code",
   "execution_count": 141,
   "id": "caaf2188",
   "metadata": {},
   "outputs": [
    {
     "data": {
      "text/plain": [
       "True"
      ]
     },
     "execution_count": 141,
     "metadata": {},
     "output_type": "execute_result"
    }
   ],
   "source": [
    "k.isdigit()"
   ]
  },
  {
   "cell_type": "code",
   "execution_count": 142,
   "id": "bd949c66",
   "metadata": {},
   "outputs": [
    {
     "data": {
      "text/plain": [
       "False"
      ]
     },
     "execution_count": 142,
     "metadata": {},
     "output_type": "execute_result"
    }
   ],
   "source": [
    "s.isdigit()"
   ]
  },
  {
   "cell_type": "code",
   "execution_count": 144,
   "id": "ca1fabde",
   "metadata": {},
   "outputs": [
    {
     "data": {
      "text/plain": [
       "True"
      ]
     },
     "execution_count": 144,
     "metadata": {},
     "output_type": "execute_result"
    }
   ],
   "source": [
    "s.endswith(\"h\")# string is ending with h or not "
   ]
  },
  {
   "cell_type": "code",
   "execution_count": 145,
   "id": "171adf3c",
   "metadata": {},
   "outputs": [
    {
     "data": {
      "text/plain": [
       "False"
      ]
     },
     "execution_count": 145,
     "metadata": {},
     "output_type": "execute_result"
    }
   ],
   "source": [
    "s.endswith(\"s\")"
   ]
  },
  {
   "cell_type": "code",
   "execution_count": 148,
   "id": "212215cb",
   "metadata": {},
   "outputs": [
    {
     "data": {
      "text/plain": [
       "False"
      ]
     },
     "execution_count": 148,
     "metadata": {},
     "output_type": "execute_result"
    }
   ],
   "source": [
    "s.startswith(\"b\")# starts with b checkinh"
   ]
  },
  {
   "cell_type": "code",
   "execution_count": 147,
   "id": "e4513273",
   "metadata": {},
   "outputs": [
    {
     "data": {
      "text/plain": [
       "True"
      ]
     },
     "execution_count": 147,
     "metadata": {},
     "output_type": "execute_result"
    }
   ],
   "source": [
    "s.startswith(\" \")"
   ]
  },
  {
   "cell_type": "code",
   "execution_count": 149,
   "id": "84e5c5e1",
   "metadata": {},
   "outputs": [
    {
     "data": {
      "text/plain": [
       "False"
      ]
     },
     "execution_count": 149,
     "metadata": {},
     "output_type": "execute_result"
    }
   ],
   "source": [
    "s.istitle()#bcz it not starts with capital letter "
   ]
  },
  {
   "cell_type": "code",
   "execution_count": 150,
   "id": "9b458b18",
   "metadata": {},
   "outputs": [
    {
     "data": {
      "text/plain": [
       "b'   barath'"
      ]
     },
     "execution_count": 150,
     "metadata": {},
     "output_type": "execute_result"
    }
   ],
   "source": [
    "s.encode()#utf 8 is encoding for english character 'b' is a notation"
   ]
  },
  {
   "cell_type": "code",
   "execution_count": 153,
   "id": "601c8317",
   "metadata": {},
   "outputs": [
    {
     "data": {
      "text/plain": [
       "False"
      ]
     },
     "execution_count": 153,
     "metadata": {},
     "output_type": "execute_result"
    }
   ],
   "source": [
    "s.isalpha()"
   ]
  },
  {
   "cell_type": "code",
   "execution_count": 167,
   "id": "0d5edd0a",
   "metadata": {},
   "outputs": [],
   "source": [
    "a=\"abcd9e\""
   ]
  },
  {
   "cell_type": "code",
   "execution_count": 168,
   "id": "df1deb88",
   "metadata": {},
   "outputs": [
    {
     "data": {
      "text/plain": [
       "True"
      ]
     },
     "execution_count": 168,
     "metadata": {},
     "output_type": "execute_result"
    }
   ],
   "source": [
    "a.isalnum()"
   ]
  },
  {
   "cell_type": "code",
   "execution_count": 169,
   "id": "457df7ba",
   "metadata": {},
   "outputs": [
    {
     "data": {
      "text/plain": [
       "False"
      ]
     },
     "execution_count": 169,
     "metadata": {},
     "output_type": "execute_result"
    }
   ],
   "source": [
    "a.isalpha()"
   ]
  },
  {
   "cell_type": "code",
   "execution_count": null,
   "id": "26638874",
   "metadata": {},
   "outputs": [],
   "source": []
  }
 ],
 "metadata": {
  "kernelspec": {
   "display_name": "Python 3",
   "language": "python",
   "name": "python3"
  },
  "language_info": {
   "codemirror_mode": {
    "name": "ipython",
    "version": 3
   },
   "file_extension": ".py",
   "mimetype": "text/x-python",
   "name": "python",
   "nbconvert_exporter": "python",
   "pygments_lexer": "ipython3",
   "version": "3.9.15"
  }
 },
 "nbformat": 4,
 "nbformat_minor": 5
}
