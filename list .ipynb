{
 "cells": [
  {
   "cell_type": "markdown",
   "id": "11dd8c68",
   "metadata": {},
   "source": [
    "# list"
   ]
  },
  {
   "cell_type": "code",
   "execution_count": null,
   "id": "970a16dd",
   "metadata": {},
   "outputs": [],
   "source": []
  },
  {
   "cell_type": "raw",
   "id": "629528a0",
   "metadata": {},
   "source": [
    "#list following\n",
    "List items are ordered, changeable, and allow duplicate values,Mutable.\n",
    "\n",
    "collection of hetrogenious data set.\n",
    "\n",
    "List items are indexed, the first item has index [0], the second item has index [1] etc."
   ]
  },
  {
   "cell_type": "code",
   "execution_count": 1,
   "id": "df5c570c",
   "metadata": {},
   "outputs": [],
   "source": [
    "l=[\"hi\",\"barath\",3333,4+6j,True,34.5]"
   ]
  },
  {
   "cell_type": "code",
   "execution_count": 2,
   "id": "597c3394",
   "metadata": {},
   "outputs": [
    {
     "data": {
      "text/plain": [
       "list"
      ]
     },
     "execution_count": 2,
     "metadata": {},
     "output_type": "execute_result"
    }
   ],
   "source": [
    "type(l)"
   ]
  },
  {
   "cell_type": "code",
   "execution_count": 3,
   "id": "b7270197",
   "metadata": {},
   "outputs": [
    {
     "data": {
      "text/plain": [
       "'hi'"
      ]
     },
     "execution_count": 3,
     "metadata": {},
     "output_type": "execute_result"
    }
   ],
   "source": [
    "l[0]#single single element is in index element is separate by ,"
   ]
  },
  {
   "cell_type": "code",
   "execution_count": 4,
   "id": "6c8ed994",
   "metadata": {},
   "outputs": [
    {
     "data": {
      "text/plain": [
       "34.5"
      ]
     },
     "execution_count": 4,
     "metadata": {},
     "output_type": "execute_result"
    }
   ],
   "source": [
    "l[-1]"
   ]
  },
  {
   "cell_type": "code",
   "execution_count": 5,
   "id": "b94ab788",
   "metadata": {},
   "outputs": [
    {
     "data": {
      "text/plain": [
       "['hi', 'barath', 3333, (4+6j)]"
      ]
     },
     "execution_count": 5,
     "metadata": {},
     "output_type": "execute_result"
    }
   ],
   "source": [
    "l[0:4]#range of data"
   ]
  },
  {
   "cell_type": "code",
   "execution_count": 6,
   "id": "85d22381",
   "metadata": {},
   "outputs": [
    {
     "data": {
      "text/plain": [
       "[34.5, True, (4+6j), 3333, 'barath', 'hi']"
      ]
     },
     "execution_count": 6,
     "metadata": {},
     "output_type": "execute_result"
    }
   ],
   "source": [
    "l[::-1]"
   ]
  },
  {
   "cell_type": "code",
   "execution_count": 7,
   "id": "1cf4d555",
   "metadata": {},
   "outputs": [
    {
     "data": {
      "text/plain": [
       "[34.5]"
      ]
     },
     "execution_count": 7,
     "metadata": {},
     "output_type": "execute_result"
    }
   ],
   "source": [
    "l[-1:6]"
   ]
  },
  {
   "cell_type": "code",
   "execution_count": 8,
   "id": "deb8b1dd",
   "metadata": {},
   "outputs": [
    {
     "data": {
      "text/plain": [
       "'hi'"
      ]
     },
     "execution_count": 8,
     "metadata": {},
     "output_type": "execute_result"
    }
   ],
   "source": [
    "l[0]"
   ]
  },
  {
   "cell_type": "code",
   "execution_count": 9,
   "id": "1754914b",
   "metadata": {},
   "outputs": [
    {
     "data": {
      "text/plain": [
       "str"
      ]
     },
     "execution_count": 9,
     "metadata": {},
     "output_type": "execute_result"
    }
   ],
   "source": [
    "type(l[0])"
   ]
  },
  {
   "cell_type": "code",
   "execution_count": 10,
   "id": "4bb0165e",
   "metadata": {},
   "outputs": [
    {
     "data": {
      "text/plain": [
       "'i'"
      ]
     },
     "execution_count": 10,
     "metadata": {},
     "output_type": "execute_result"
    }
   ],
   "source": [
    "l[0][1]"
   ]
  },
  {
   "cell_type": "code",
   "execution_count": 11,
   "id": "db4a345f",
   "metadata": {},
   "outputs": [
    {
     "data": {
      "text/plain": [
       "(4+6j)"
      ]
     },
     "execution_count": 11,
     "metadata": {},
     "output_type": "execute_result"
    }
   ],
   "source": [
    "l[3]"
   ]
  },
  {
   "cell_type": "code",
   "execution_count": 12,
   "id": "7595b167",
   "metadata": {},
   "outputs": [
    {
     "data": {
      "text/plain": [
       "4.0"
      ]
     },
     "execution_count": 12,
     "metadata": {},
     "output_type": "execute_result"
    }
   ],
   "source": [
    "l[3].real"
   ]
  },
  {
   "cell_type": "code",
   "execution_count": 13,
   "id": "980c995d",
   "metadata": {},
   "outputs": [],
   "source": [
    "l1=[\"ajith\",\"barath\",5374]"
   ]
  },
  {
   "cell_type": "code",
   "execution_count": 14,
   "id": "8b9e03c5",
   "metadata": {},
   "outputs": [],
   "source": [
    "l2=[\"xzv\",\"prr\",339.44]"
   ]
  },
  {
   "cell_type": "code",
   "execution_count": 15,
   "id": "f76e7431",
   "metadata": {},
   "outputs": [
    {
     "data": {
      "text/plain": [
       "['ajith', 'barath', 5374, 'xzv', 'prr', 339.44]"
      ]
     },
     "execution_count": 15,
     "metadata": {},
     "output_type": "execute_result"
    }
   ],
   "source": [
    "l1+l2 #same data type in both list so its add another list"
   ]
  },
  {
   "cell_type": "code",
   "execution_count": 16,
   "id": "5e34c143",
   "metadata": {},
   "outputs": [
    {
     "data": {
      "text/plain": [
       "['ajith', 'barath', 5374, 'ajith', 'barath', 5374, 'ajith', 'barath', 5374]"
      ]
     },
     "execution_count": 16,
     "metadata": {},
     "output_type": "execute_result"
    }
   ],
   "source": [
    "l1*3# it repeat same element that many number of times"
   ]
  },
  {
   "cell_type": "code",
   "execution_count": 17,
   "id": "48437a85",
   "metadata": {},
   "outputs": [
    {
     "data": {
      "text/plain": [
       "['ajith', 'barath', 5374]"
      ]
     },
     "execution_count": 17,
     "metadata": {},
     "output_type": "execute_result"
    }
   ],
   "source": [
    "l1"
   ]
  },
  {
   "cell_type": "code",
   "execution_count": 18,
   "id": "18cae6de",
   "metadata": {},
   "outputs": [],
   "source": [
    "l1[0]=\"maybe\"#here assignment operation is done "
   ]
  },
  {
   "cell_type": "code",
   "execution_count": 19,
   "id": "80ae5b7a",
   "metadata": {},
   "outputs": [
    {
     "data": {
      "text/plain": [
       "['maybe', 'barath', 5374]"
      ]
     },
     "execution_count": 19,
     "metadata": {},
     "output_type": "execute_result"
    }
   ],
   "source": [
    "l1\n"
   ]
  },
  {
   "cell_type": "raw",
   "id": "e8c6be49",
   "metadata": {},
   "source": [
    "l[1][0]=\"s\" #strings are immutable   mutable means at same element it allow to change this is mutable \n",
    "if address has change that is not called mutable .at same memory addres if you can change that is mutale"
   ]
  },
  {
   "cell_type": "code",
   "execution_count": 20,
   "id": "4d18c092",
   "metadata": {},
   "outputs": [
    {
     "data": {
      "text/plain": [
       "3"
      ]
     },
     "execution_count": 20,
     "metadata": {},
     "output_type": "execute_result"
    }
   ],
   "source": [
    "len(l1)"
   ]
  },
  {
   "cell_type": "code",
   "execution_count": 21,
   "id": "2e59fc65",
   "metadata": {},
   "outputs": [
    {
     "data": {
      "text/plain": [
       "True"
      ]
     },
     "execution_count": 21,
     "metadata": {},
     "output_type": "execute_result"
    }
   ],
   "source": [
    "\"barath\" in l1 #the element is  present in a list or not "
   ]
  },
  {
   "cell_type": "code",
   "execution_count": 22,
   "id": "ebd43400",
   "metadata": {},
   "outputs": [
    {
     "data": {
      "text/plain": [
       "['xzv', 'prr', 339.44]"
      ]
     },
     "execution_count": 22,
     "metadata": {},
     "output_type": "execute_result"
    }
   ],
   "source": [
    "l2"
   ]
  },
  {
   "cell_type": "code",
   "execution_count": 23,
   "id": "8d40244a",
   "metadata": {},
   "outputs": [],
   "source": [
    "l2.append(\"barath\")# append a element in last location"
   ]
  },
  {
   "cell_type": "code",
   "execution_count": 24,
   "id": "c027f95d",
   "metadata": {},
   "outputs": [
    {
     "data": {
      "text/plain": [
       "['xzv', 'prr', 339.44, 'barath']"
      ]
     },
     "execution_count": 24,
     "metadata": {},
     "output_type": "execute_result"
    }
   ],
   "source": [
    "l2"
   ]
  },
  {
   "cell_type": "code",
   "execution_count": 25,
   "id": "bfdb77bb",
   "metadata": {},
   "outputs": [
    {
     "data": {
      "text/plain": [
       "'barath'"
      ]
     },
     "execution_count": 25,
     "metadata": {},
     "output_type": "execute_result"
    }
   ],
   "source": [
    "l2.pop() # by default it remove -1 indeax means last one "
   ]
  },
  {
   "cell_type": "code",
   "execution_count": 26,
   "id": "03411b33",
   "metadata": {},
   "outputs": [
    {
     "data": {
      "text/plain": [
       "339.44"
      ]
     },
     "execution_count": 26,
     "metadata": {},
     "output_type": "execute_result"
    }
   ],
   "source": [
    "l2.pop(2) # we can specify particular index number to remove"
   ]
  },
  {
   "cell_type": "code",
   "execution_count": 27,
   "id": "e8e609db",
   "metadata": {},
   "outputs": [
    {
     "data": {
      "text/plain": [
       "['xzv', 'prr']"
      ]
     },
     "execution_count": 27,
     "metadata": {},
     "output_type": "execute_result"
    }
   ],
   "source": [
    "l2"
   ]
  },
  {
   "cell_type": "code",
   "execution_count": 28,
   "id": "881c5e07",
   "metadata": {},
   "outputs": [],
   "source": [
    "l2.insert(1,\"insert\") # where you lil2ke to insert what you would like to insert"
   ]
  },
  {
   "cell_type": "code",
   "execution_count": 29,
   "id": "880fb391",
   "metadata": {},
   "outputs": [
    {
     "data": {
      "text/plain": [
       "['xzv', 'insert', 'prr']"
      ]
     },
     "execution_count": 29,
     "metadata": {},
     "output_type": "execute_result"
    }
   ],
   "source": [
    "l2"
   ]
  },
  {
   "cell_type": "code",
   "execution_count": 30,
   "id": "23be276c",
   "metadata": {},
   "outputs": [],
   "source": [
    "l2.insert(3,[1,2,3,4,])"
   ]
  },
  {
   "cell_type": "code",
   "execution_count": 31,
   "id": "5006e881",
   "metadata": {},
   "outputs": [
    {
     "data": {
      "text/plain": [
       "['xzv', 'insert', 'prr', [1, 2, 3, 4]]"
      ]
     },
     "execution_count": 31,
     "metadata": {},
     "output_type": "execute_result"
    }
   ],
   "source": [
    "l2"
   ]
  },
  {
   "cell_type": "code",
   "execution_count": 32,
   "id": "3af2b89e",
   "metadata": {},
   "outputs": [
    {
     "data": {
      "text/plain": [
       "[[1, 2, 3, 4], 'prr', 'insert', 'xzv']"
      ]
     },
     "execution_count": 32,
     "metadata": {},
     "output_type": "execute_result"
    }
   ],
   "source": [
    "l2[::-1] #temporary reverse"
   ]
  },
  {
   "cell_type": "code",
   "execution_count": 33,
   "id": "d164f5b1",
   "metadata": {},
   "outputs": [],
   "source": [
    "l2.reverse() # permenently it reversed"
   ]
  },
  {
   "cell_type": "code",
   "execution_count": 34,
   "id": "a46ba14b",
   "metadata": {},
   "outputs": [
    {
     "data": {
      "text/plain": [
       "[[1, 2, 3, 4], 'prr', 'insert', 'xzv']"
      ]
     },
     "execution_count": 34,
     "metadata": {},
     "output_type": "execute_result"
    }
   ],
   "source": [
    "l2"
   ]
  },
  {
   "cell_type": "code",
   "execution_count": 35,
   "id": "db073a72",
   "metadata": {},
   "outputs": [
    {
     "data": {
      "text/plain": [
       "'x'"
      ]
     },
     "execution_count": 35,
     "metadata": {},
     "output_type": "execute_result"
    }
   ],
   "source": [
    "l2[3][0]"
   ]
  },
  {
   "cell_type": "markdown",
   "id": "19244ca1",
   "metadata": {},
   "source": [
    "## l2"
   ]
  },
  {
   "cell_type": "code",
   "execution_count": 36,
   "id": "ecf68175",
   "metadata": {},
   "outputs": [
    {
     "data": {
      "text/plain": [
       "[[1, 2, 3, 4], 'prr', 'insert', 'xzv']"
      ]
     },
     "execution_count": 36,
     "metadata": {},
     "output_type": "execute_result"
    }
   ],
   "source": [
    "l2"
   ]
  },
  {
   "cell_type": "code",
   "execution_count": 37,
   "id": "a0f3735a",
   "metadata": {},
   "outputs": [
    {
     "data": {
      "text/plain": [
       "1"
      ]
     },
     "execution_count": 37,
     "metadata": {},
     "output_type": "execute_result"
    }
   ],
   "source": [
    "l2.count('xzv')"
   ]
  },
  {
   "cell_type": "code",
   "execution_count": 38,
   "id": "01d882ef",
   "metadata": {},
   "outputs": [
    {
     "data": {
      "text/plain": [
       "0"
      ]
     },
     "execution_count": 38,
     "metadata": {},
     "output_type": "execute_result"
    }
   ],
   "source": [
    "l2.count(22)"
   ]
  },
  {
   "cell_type": "code",
   "execution_count": 39,
   "id": "f171a0d5",
   "metadata": {},
   "outputs": [],
   "source": [
    "l2.append(\"sdasd\") #append same data type in a list "
   ]
  },
  {
   "cell_type": "code",
   "execution_count": 40,
   "id": "95a3ecd7",
   "metadata": {},
   "outputs": [
    {
     "data": {
      "text/plain": [
       "[[1, 2, 3, 4], 'prr', 'insert', 'xzv', 'sdasd']"
      ]
     },
     "execution_count": 40,
     "metadata": {},
     "output_type": "execute_result"
    }
   ],
   "source": [
    "l2"
   ]
  },
  {
   "cell_type": "code",
   "execution_count": 41,
   "id": "47044522",
   "metadata": {},
   "outputs": [
    {
     "data": {
      "text/plain": [
       "['maybe', 'barath', 5374]"
      ]
     },
     "execution_count": 41,
     "metadata": {},
     "output_type": "execute_result"
    }
   ],
   "source": [
    "l1"
   ]
  },
  {
   "cell_type": "code",
   "execution_count": 42,
   "id": "f4e6ce0f",
   "metadata": {},
   "outputs": [],
   "source": [
    "l1.extend([1,2,3,5,7]) # extend add the elemnts in list where as append add exact data type but extend only add the values"
   ]
  },
  {
   "cell_type": "code",
   "execution_count": 43,
   "id": "61d49ff2",
   "metadata": {},
   "outputs": [
    {
     "data": {
      "text/plain": [
       "['maybe', 'barath', 5374, 1, 2, 3, 5, 7]"
      ]
     },
     "execution_count": 43,
     "metadata": {},
     "output_type": "execute_result"
    }
   ],
   "source": [
    "l1 #it add the elements present in the list it gives itarable objects concadinantion (first ravel entire list )"
   ]
  },
  {
   "cell_type": "code",
   "execution_count": 44,
   "id": "bb4a4581",
   "metadata": {},
   "outputs": [
    {
     "data": {
      "text/plain": [
       "2"
      ]
     },
     "execution_count": 44,
     "metadata": {},
     "output_type": "execute_result"
    }
   ],
   "source": [
    "l1.index(5374) #it returns index of a perticular value "
   ]
  },
  {
   "cell_type": "code",
   "execution_count": 45,
   "id": "bd2a8966",
   "metadata": {},
   "outputs": [],
   "source": [
    "L=[\"skj\",'sdljf',3476,3333,3345]"
   ]
  },
  {
   "cell_type": "code",
   "execution_count": 46,
   "id": "549bb65b",
   "metadata": {},
   "outputs": [
    {
     "data": {
      "text/plain": [
       "[3333, 3345]"
      ]
     },
     "execution_count": 46,
     "metadata": {},
     "output_type": "execute_result"
    }
   ],
   "source": [
    "L[-2:6]"
   ]
  },
  {
   "cell_type": "code",
   "execution_count": 47,
   "id": "794c8aaf",
   "metadata": {},
   "outputs": [
    {
     "name": "stdout",
     "output_type": "stream",
     "text": [
      "3.9.15\n"
     ]
    }
   ],
   "source": [
    "print(\"3.9.15\")"
   ]
  },
  {
   "cell_type": "code",
   "execution_count": 48,
   "id": "778499e2",
   "metadata": {},
   "outputs": [
    {
     "data": {
      "text/plain": [
       "['maybe', 'barath', 5374, 1, 2, 3, 5, 7]"
      ]
     },
     "execution_count": 48,
     "metadata": {},
     "output_type": "execute_result"
    }
   ],
   "source": [
    "l1"
   ]
  },
  {
   "cell_type": "code",
   "execution_count": 49,
   "id": "d9c5efac",
   "metadata": {},
   "outputs": [
    {
     "data": {
      "text/plain": [
       "[[1, 2, 3, 4], 'prr', 'insert', 'xzv', 'sdasd']"
      ]
     },
     "execution_count": 49,
     "metadata": {},
     "output_type": "execute_result"
    }
   ],
   "source": [
    "l2"
   ]
  },
  {
   "cell_type": "code",
   "execution_count": 50,
   "id": "0a7ee0e6",
   "metadata": {},
   "outputs": [],
   "source": [
    "######4160211531712496  0927  6796#####"
   ]
  },
  {
   "cell_type": "code",
   "execution_count": 51,
   "id": "7398559e",
   "metadata": {},
   "outputs": [],
   "source": [
    "l=[1,2,4,55,55,55,]"
   ]
  },
  {
   "cell_type": "code",
   "execution_count": 52,
   "id": "9d8031e1",
   "metadata": {},
   "outputs": [],
   "source": [
    "l.append(ArithmeticError)"
   ]
  },
  {
   "cell_type": "code",
   "execution_count": 53,
   "id": "6d8ba70c",
   "metadata": {},
   "outputs": [
    {
     "data": {
      "text/plain": [
       "[1, 2, 4, 55, 55, 55, ArithmeticError]"
      ]
     },
     "execution_count": 53,
     "metadata": {},
     "output_type": "execute_result"
    }
   ],
   "source": [
    "l"
   ]
  },
  {
   "cell_type": "code",
   "execution_count": 54,
   "id": "83e2a21b",
   "metadata": {},
   "outputs": [
    {
     "data": {
      "text/plain": [
       "ArithmeticError"
      ]
     },
     "execution_count": 54,
     "metadata": {},
     "output_type": "execute_result"
    }
   ],
   "source": [
    "l.pop(6)"
   ]
  },
  {
   "cell_type": "code",
   "execution_count": 56,
   "id": "95abf1e3",
   "metadata": {},
   "outputs": [
    {
     "data": {
      "text/plain": [
       "55"
      ]
     },
     "execution_count": 56,
     "metadata": {},
     "output_type": "execute_result"
    }
   ],
   "source": [
    "l.pop(5)"
   ]
  },
  {
   "cell_type": "code",
   "execution_count": 57,
   "id": "cb122bf6",
   "metadata": {},
   "outputs": [
    {
     "data": {
      "text/plain": [
       "[1, 2, 4, 55, 55]"
      ]
     },
     "execution_count": 57,
     "metadata": {},
     "output_type": "execute_result"
    }
   ],
   "source": [
    "l"
   ]
  },
  {
   "cell_type": "code",
   "execution_count": null,
   "id": "c23649a7",
   "metadata": {},
   "outputs": [],
   "source": [
    "#wrong things happend automatically right things you have to do"
   ]
  },
  {
   "cell_type": "code",
   "execution_count": 62,
   "id": "c3000b94",
   "metadata": {},
   "outputs": [
    {
     "data": {
      "text/plain": [
       "[1, 2, 4, 55, 55]"
      ]
     },
     "execution_count": 62,
     "metadata": {},
     "output_type": "execute_result"
    }
   ],
   "source": [
    "l"
   ]
  },
  {
   "cell_type": "code",
   "execution_count": null,
   "id": "c1e89d55",
   "metadata": {},
   "outputs": [],
   "source": []
  }
 ],
 "metadata": {
  "kernelspec": {
   "display_name": "Python 3",
   "language": "python",
   "name": "python3"
  },
  "language_info": {
   "codemirror_mode": {
    "name": "ipython",
    "version": 3
   },
   "file_extension": ".py",
   "mimetype": "text/x-python",
   "name": "python",
   "nbconvert_exporter": "python",
   "pygments_lexer": "ipython3",
   "version": "3.9.15"
  }
 },
 "nbformat": 4,
 "nbformat_minor": 5
}
