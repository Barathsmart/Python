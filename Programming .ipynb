{
 "cells": [
  {
   "cell_type": "raw",
   "id": "e6b3c151",
   "metadata": {},
   "source": [
    "PROGRAMMING LANGUAGE\n",
    "\n",
    ":: way of communicating or instructing computer to do some task'\n",
    "|||\n",
    "keywords(vocabulary),syntax(set of rules)----one of the example is python\n",
    "source code ==>compiler==>exe==>binary language==c,c++,java(jvm-compilr)\n",
    "english---translate--frenceh\n",
    "\n",
    "\n",
    "PYTHON\n",
    "\n",
    "python--interpreter--output --lineby line execution ,java script\n",
    "it create prototype faster (demo protuct is prototype)\n",
    "it is slow compare to compiler language\n",
    "\n",
    "                   c                                     python\n",
    "                  /  \\                                      |\n",
    "                  \n",
    "                50 lines to develop               10 lines to develop"
   ]
  },
  {
   "cell_type": "code",
   "execution_count": null,
   "id": "021cfe27",
   "metadata": {},
   "outputs": [],
   "source": [
    "PESUDO PROGRAMMING-rough code(the way you are thinking u can write a code)\n",
    "\n",
    "4,5\n",
    "\n",
    "begin\n",
    "num num1,num2\n",
    "display \"num1,num2\"\n",
    "if num1 > num2\n",
    "display\"num 1 is grater that num2\"\n",
    "else\n",
    "display\"num 2 is greter or eqaul to num1\"\n",
    "end \n",
    "\n"
   ]
  },
  {
   "cell_type": "raw",
   "id": "cf1bfad8",
   "metadata": {},
   "source": [
    "FLOW CHART-what ever your flow you can do in digramatic representation\n",
    "its a work flow \n",
    "you can do it for every program\n"
   ]
  },
  {
   "cell_type": "raw",
   "id": "f7b07331",
   "metadata": {},
   "source": [
    "LIBRARY \n",
    "    jupiter is one of library it is a collection of code base which you can use in future "
   ]
  },
  {
   "cell_type": "code",
   "execution_count": null,
   "id": "c4e4cb90",
   "metadata": {},
   "outputs": [],
   "source": []
  },
  {
   "cell_type": "code",
   "execution_count": 2,
   "id": "6704d2aa",
   "metadata": {},
   "outputs": [
    {
     "name": "stdout",
     "output_type": "stream",
     "text": [
      "helo guys\n"
     ]
    }
   ],
   "source": [
    "print(\"helo guys\")"
   ]
  },
  {
   "cell_type": "code",
   "execution_count": 3,
   "id": "8c717dfd",
   "metadata": {},
   "outputs": [
    {
     "name": "stdout",
     "output_type": "stream",
     "text": [
      "hi\n"
     ]
    }
   ],
   "source": [
    "print('hi')"
   ]
  },
  {
   "cell_type": "raw",
   "id": "beebe7e6",
   "metadata": {},
   "source": [
    "EOL-end of line"
   ]
  },
  {
   "cell_type": "code",
   "execution_count": 6,
   "id": "f4ed9acf",
   "metadata": {},
   "outputs": [
    {
     "name": "stdout",
     "output_type": "stream",
     "text": [
      "hi\n",
      "dkd\n"
     ]
    }
   ],
   "source": [
    "print(\"\"\"hi\n",
    "dkd\"\"\")           #multi line commend do it in triple code\n"
   ]
  },
  {
   "cell_type": "raw",
   "id": "62d8c54f",
   "metadata": {},
   "source": [
    "Commends"
   ]
  },
  {
   "cell_type": "code",
   "execution_count": 7,
   "id": "a2ecff2a",
   "metadata": {},
   "outputs": [
    {
     "name": "stdout",
     "output_type": "stream",
     "text": [
      "hi\n"
     ]
    }
   ],
   "source": [
    "#say hi to me -----this is a commend it not get executed \n",
    "print(\"hi\")"
   ]
  },
  {
   "cell_type": "code",
   "execution_count": null,
   "id": "1e93f0a6",
   "metadata": {},
   "outputs": [],
   "source": [
    "#commnd is what is below code is telling"
   ]
  },
  {
   "cell_type": "code",
   "execution_count": 9,
   "id": "ab2df8d7",
   "metadata": {},
   "outputs": [
    {
     "data": {
      "text/plain": [
       "1"
      ]
     },
     "execution_count": 9,
     "metadata": {},
     "output_type": "execute_result"
    }
   ],
   "source": [
    "123%2 # moduloo give reminder"
   ]
  },
  {
   "cell_type": "code",
   "execution_count": 10,
   "id": "6d033c13",
   "metadata": {},
   "outputs": [],
   "source": [
    "x=10"
   ]
  },
  {
   "cell_type": "code",
   "execution_count": 13,
   "id": "b425259e",
   "metadata": {},
   "outputs": [
    {
     "name": "stdout",
     "output_type": "stream",
     "text": [
      "this is python\n"
     ]
    }
   ],
   "source": [
    "language=\"python\"\n",
    "print(f\"this is {language}\") # f is used for formated string filling methode(standard)"
   ]
  },
  {
   "cell_type": "code",
   "execution_count": 15,
   "id": "c64a6cdb",
   "metadata": {},
   "outputs": [
    {
     "name": "stdout",
     "output_type": "stream",
     "text": [
      "this is python classs\n"
     ]
    }
   ],
   "source": [
    "print(\"this is {} classs\".format(language)) #old approch "
   ]
  },
  {
   "cell_type": "code",
   "execution_count": 18,
   "id": "6ccd2bb7",
   "metadata": {},
   "outputs": [
    {
     "name": "stdout",
     "output_type": "stream",
     "text": [
      "thi is python classs\n"
     ]
    }
   ],
   "source": [
    "print(\"thi is \"+ language + \" classs\") # to old approch"
   ]
  },
  {
   "cell_type": "code",
   "execution_count": 21,
   "id": "ad28202d",
   "metadata": {},
   "outputs": [
    {
     "name": "stdout",
     "output_type": "stream",
     "text": [
      "the result sum of two numbers a: 2 and b: 4 is =6\n"
     ]
    }
   ],
   "source": [
    "a=2\n",
    "b=4\n",
    "c=a+b\n",
    "print(f\"the result sum of two numbers a: {a} and b: {b} is ={c}\")"
   ]
  },
  {
   "cell_type": "markdown",
   "id": "087a62d9",
   "metadata": {},
   "source": []
  },
  {
   "cell_type": "markdown",
   "id": "bbfea075",
   "metadata": {},
   "source": [
    "BOOLEAN #use to check condition"
   ]
  },
  {
   "cell_type": "code",
   "execution_count": 23,
   "id": "ae49a9cf",
   "metadata": {},
   "outputs": [
    {
     "name": "stdout",
     "output_type": "stream",
     "text": [
      "<class 'bool'>\n"
     ]
    }
   ],
   "source": [
    "one=True\n",
    "zero=False\n",
    "\n",
    "\n",
    "print(type(one))"
   ]
  },
  {
   "cell_type": "code",
   "execution_count": 26,
   "id": "3ee75544",
   "metadata": {},
   "outputs": [
    {
     "name": "stdout",
     "output_type": "stream",
     "text": [
      "you not go to college :True\n"
     ]
    }
   ],
   "source": [
    "is_raining=True\n",
    "print(f\"you not go to college :{is_raining}\")"
   ]
  },
  {
   "cell_type": "code",
   "execution_count": 29,
   "id": "d5187b56",
   "metadata": {},
   "outputs": [
    {
     "name": "stdout",
     "output_type": "stream",
     "text": [
      "you study well ?:True\n"
     ]
    }
   ],
   "source": [
    "school=3\n",
    "tution=2\n",
    "concept=tution < school\n",
    "print(f\"you study well ?:{concept}\") #who concentrate in school study well compare to tutin guy"
   ]
  },
  {
   "cell_type": "code",
   "execution_count": 32,
   "id": "0987db91",
   "metadata": {},
   "outputs": [
    {
     "name": "stdout",
     "output_type": "stream",
     "text": [
      "you study well ?:False\n"
     ]
    }
   ],
   "source": [
    "school=2\n",
    "tution=3\n",
    "concept=tution < school\n",
    "print(f\"you study well ?:{concept}\") # a person who go to tution more that school not study well"
   ]
  },
  {
   "cell_type": "code",
   "execution_count": 1,
   "id": "d27e8a43",
   "metadata": {},
   "outputs": [
    {
     "data": {
      "text/plain": [
       "'my name is \"barath\" m'"
      ]
     },
     "execution_count": 1,
     "metadata": {},
     "output_type": "execute_result"
    }
   ],
   "source": [
    "\"my name is \\\"barath\\\" m\""
   ]
  },
  {
   "cell_type": "code",
   "execution_count": 1,
   "id": "d73feea4",
   "metadata": {},
   "outputs": [
    {
     "data": {
      "text/plain": [
       "368"
      ]
     },
     "execution_count": 1,
     "metadata": {},
     "output_type": "execute_result"
    }
   ],
   "source": [
    "123+245"
   ]
  },
  {
   "cell_type": "code",
   "execution_count": 2,
   "id": "3a806348",
   "metadata": {},
   "outputs": [
    {
     "data": {
      "text/plain": [
       "8241"
      ]
     },
     "execution_count": 2,
     "metadata": {},
     "output_type": "execute_result"
    }
   ],
   "source": [
    "123*67"
   ]
  },
  {
   "cell_type": "code",
   "execution_count": 3,
   "id": "a177c923",
   "metadata": {},
   "outputs": [
    {
     "data": {
      "text/plain": [
       "1"
      ]
     },
     "execution_count": 3,
     "metadata": {},
     "output_type": "execute_result"
    }
   ],
   "source": [
    "123%2"
   ]
  },
  {
   "cell_type": "code",
   "execution_count": 13,
   "id": "9b7fbea3",
   "metadata": {},
   "outputs": [
    {
     "name": "stdout",
     "output_type": "stream",
     "text": [
      "1\n"
     ]
    }
   ],
   "source": [
    "x= 10"
   ]
  },
  {
   "cell_type": "code",
   "execution_count": 27,
   "id": "b52bfb8a",
   "metadata": {},
   "outputs": [],
   "source": [
    "def mul(x):\n",
    "    y=int(input(\"which you like to multiply:\"))\n",
    "    z=x*(y)\n",
    "    print(z)"
   ]
  },
  {
   "cell_type": "code",
   "execution_count": 29,
   "id": "c81cca9c",
   "metadata": {},
   "outputs": [
    {
     "name": "stdout",
     "output_type": "stream",
     "text": [
      "which you like to multiply:5\n",
      "25\n"
     ]
    }
   ],
   "source": [
    "mul(5)"
   ]
  },
  {
   "cell_type": "code",
   "execution_count": 30,
   "id": "516de269",
   "metadata": {},
   "outputs": [],
   "source": [
    "__num=10"
   ]
  },
  {
   "cell_type": "code",
   "execution_count": 31,
   "id": "b29e17e6",
   "metadata": {},
   "outputs": [
    {
     "data": {
      "text/plain": [
       "10"
      ]
     },
     "execution_count": 31,
     "metadata": {},
     "output_type": "execute_result"
    }
   ],
   "source": [
    "__num"
   ]
  },
  {
   "cell_type": "code",
   "execution_count": 32,
   "id": "6a08168a",
   "metadata": {},
   "outputs": [
    {
     "ename": "SyntaxError",
     "evalue": "invalid syntax (1993679522.py, line 1)",
     "output_type": "error",
     "traceback": [
      "\u001b[0;36m  File \u001b[0;32m\"/tmp/ipykernel_5603/1993679522.py\"\u001b[0;36m, line \u001b[0;32m1\u001b[0m\n\u001b[0;31m    two num=19\u001b[0m\n\u001b[0m        ^\u001b[0m\n\u001b[0;31mSyntaxError\u001b[0m\u001b[0;31m:\u001b[0m invalid syntax\n"
     ]
    }
   ],
   "source": [
    "two num=19 #space not aloowed "
   ]
  },
  {
   "cell_type": "code",
   "execution_count": 34,
   "id": "45255585",
   "metadata": {},
   "outputs": [
    {
     "name": "stdout",
     "output_type": "stream",
     "text": [
      "int(input())\n"
     ]
    }
   ],
   "source": [
    "print(\"int(input())\")"
   ]
  },
  {
   "cell_type": "code",
   "execution_count": 36,
   "id": "b364b2f2",
   "metadata": {},
   "outputs": [],
   "source": [
    "_=0.9"
   ]
  },
  {
   "cell_type": "code",
   "execution_count": 39,
   "id": "c6d8ce2f",
   "metadata": {
    "scrolled": true
   },
   "outputs": [
    {
     "data": {
      "text/plain": [
       "0.9"
      ]
     },
     "execution_count": 39,
     "metadata": {},
     "output_type": "execute_result"
    }
   ],
   "source": [
    "_"
   ]
  },
  {
   "cell_type": "code",
   "execution_count": null,
   "id": "26a9e64e",
   "metadata": {},
   "outputs": [],
   "source": []
  }
 ],
 "metadata": {
  "kernelspec": {
   "display_name": "Python 3",
   "language": "python",
   "name": "python3"
  },
  "language_info": {
   "codemirror_mode": {
    "name": "ipython",
    "version": 3
   },
   "file_extension": ".py",
   "mimetype": "text/x-python",
   "name": "python",
   "nbconvert_exporter": "python",
   "pygments_lexer": "ipython3",
   "version": "3.9.15"
  }
 },
 "nbformat": 4,
 "nbformat_minor": 5
}
