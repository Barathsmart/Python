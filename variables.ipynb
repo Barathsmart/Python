{
 "cells": [
  {
   "cell_type": "code",
   "execution_count": 27,
   "id": "29a6ecf5",
   "metadata": {},
   "outputs": [
    {
     "name": "stdout",
     "output_type": "stream",
     "text": [
      "hi this is python variables basics\n",
      "this file is basically having simple \n",
      "variable are case sensitive\n"
     ]
    }
   ],
   "source": [
    "print(\"\"\"hi this is python variables basics\n",
    "this file is basically having simple \n",
    "variable are case sensitive\"\"\")"
   ]
  },
  {
   "cell_type": "code",
   "execution_count": 3,
   "id": "ff12599c",
   "metadata": {},
   "outputs": [
    {
     "data": {
      "text/plain": [
       "8"
      ]
     },
     "execution_count": 3,
     "metadata": {},
     "output_type": "execute_result"
    }
   ],
   "source": [
    "2**3"
   ]
  },
  {
   "cell_type": "code",
   "execution_count": 4,
   "id": "ca2cb5d1",
   "metadata": {},
   "outputs": [],
   "source": [
    "x=10"
   ]
  },
  {
   "cell_type": "code",
   "execution_count": 5,
   "id": "03de120a",
   "metadata": {},
   "outputs": [],
   "source": [
    "y=12"
   ]
  },
  {
   "cell_type": "code",
   "execution_count": 6,
   "id": "08c7582c",
   "metadata": {},
   "outputs": [],
   "source": [
    "z=x+y"
   ]
  },
  {
   "cell_type": "code",
   "execution_count": 7,
   "id": "5895f7db",
   "metadata": {},
   "outputs": [
    {
     "name": "stdout",
     "output_type": "stream",
     "text": [
      "22\n"
     ]
    }
   ],
   "source": [
    "print(z)"
   ]
  },
  {
   "cell_type": "code",
   "execution_count": 9,
   "id": "afcef09f",
   "metadata": {},
   "outputs": [],
   "source": [
    "a,b,c=10,20,1"
   ]
  },
  {
   "cell_type": "code",
   "execution_count": 10,
   "id": "8720c69e",
   "metadata": {},
   "outputs": [
    {
     "data": {
      "text/plain": [
       "10"
      ]
     },
     "execution_count": 10,
     "metadata": {},
     "output_type": "execute_result"
    }
   ],
   "source": [
    "a\n"
   ]
  },
  {
   "cell_type": "code",
   "execution_count": 11,
   "id": "90d0abb6",
   "metadata": {},
   "outputs": [
    {
     "data": {
      "text/plain": [
       "20"
      ]
     },
     "execution_count": 11,
     "metadata": {},
     "output_type": "execute_result"
    }
   ],
   "source": [
    "b"
   ]
  },
  {
   "cell_type": "code",
   "execution_count": 12,
   "id": "af3986d3",
   "metadata": {},
   "outputs": [
    {
     "data": {
      "text/plain": [
       "1"
      ]
     },
     "execution_count": 12,
     "metadata": {},
     "output_type": "execute_result"
    }
   ],
   "source": [
    "c"
   ]
  },
  {
   "cell_type": "markdown",
   "id": "b537bed5",
   "metadata": {},
   "source": [
    "# reserved wordss in python"
   ]
  },
  {
   "cell_type": "raw",
   "id": "43a6f9f5",
   "metadata": {},
   "source": [
    "1.we should not reserved words as a variable \n",
    "2.python doesnt allow you to use reseved words as keyword"
   ]
  },
  {
   "cell_type": "code",
   "execution_count": 28,
   "id": "5cc92d21",
   "metadata": {},
   "outputs": [
    {
     "name": "stdout",
     "output_type": "stream",
     "text": [
      "\n",
      "Here is a list of the Python keywords.  Enter any keyword to get more help.\n",
      "\n",
      "False               break               for                 not\n",
      "None                class               from                or\n",
      "True                continue            global              pass\n",
      "__peg_parser__      def                 if                  raise\n",
      "and                 del                 import              return\n",
      "as                  elif                in                  try\n",
      "assert              else                is                  while\n",
      "async               except              lambda              with\n",
      "await               finally             nonlocal            yield\n",
      "\n"
     ]
    }
   ],
   "source": [
    "help('keywords')"
   ]
  },
  {
   "cell_type": "code",
   "execution_count": null,
   "id": "c40d1121",
   "metadata": {},
   "outputs": [],
   "source": []
  },
  {
   "cell_type": "code",
   "execution_count": 14,
   "id": "8758a8b0",
   "metadata": {},
   "outputs": [],
   "source": [
    "print=\"hi\""
   ]
  },
  {
   "cell_type": "code",
   "execution_count": 16,
   "id": "640d7dae",
   "metadata": {},
   "outputs": [
    {
     "ename": "TypeError",
     "evalue": "'str' object is not callable",
     "output_type": "error",
     "traceback": [
      "\u001b[0;31m---------------------------------------------------------------------------\u001b[0m",
      "\u001b[0;31mTypeError\u001b[0m                                 Traceback (most recent call last)",
      "\u001b[0;32m/tmp/ipykernel_4636/776975998.py\u001b[0m in \u001b[0;36m<module>\u001b[0;34m\u001b[0m\n\u001b[0;32m----> 1\u001b[0;31m \u001b[0mprint\u001b[0m\u001b[0;34m(\u001b[0m\u001b[0;34m\"hello\"\u001b[0m\u001b[0;34m)\u001b[0m\u001b[0;34m\u001b[0m\u001b[0;34m\u001b[0m\u001b[0m\n\u001b[0m",
      "\u001b[0;31mTypeError\u001b[0m: 'str' object is not callable"
     ]
    }
   ],
   "source": [
    "print(\"hello\")"
   ]
  },
  {
   "cell_type": "code",
   "execution_count": 17,
   "id": "8cc9fd35",
   "metadata": {},
   "outputs": [],
   "source": [
    "del print #delete variable whcih we stored "
   ]
  },
  {
   "cell_type": "code",
   "execution_count": 18,
   "id": "ffaf0cc8",
   "metadata": {},
   "outputs": [
    {
     "name": "stdout",
     "output_type": "stream",
     "text": [
      "vi\n"
     ]
    }
   ],
   "source": [
    "print(\"vi\")"
   ]
  },
  {
   "cell_type": "code",
   "execution_count": 19,
   "id": "0347e159",
   "metadata": {},
   "outputs": [
    {
     "data": {
      "text/plain": [
       "builtin_function_or_method"
      ]
     },
     "execution_count": 19,
     "metadata": {},
     "output_type": "execute_result"
    }
   ],
   "source": [
    "type(print)"
   ]
  },
  {
   "cell_type": "markdown",
   "id": "9863729d",
   "metadata": {},
   "source": [
    "how many resrved words ##33 you are not use this to ur variable name"
   ]
  },
  {
   "cell_type": "markdown",
   "id": "ddde050f",
   "metadata": {},
   "source": [
    "multi assingment of variables"
   ]
  },
  {
   "cell_type": "code",
   "execution_count": 21,
   "id": "20e3830c",
   "metadata": {},
   "outputs": [],
   "source": [
    "a,b,c=10,20,\"sbat\""
   ]
  },
  {
   "cell_type": "code",
   "execution_count": 24,
   "id": "ce6cd128",
   "metadata": {},
   "outputs": [
    {
     "data": {
      "text/plain": [
       "str"
      ]
     },
     "execution_count": 24,
     "metadata": {},
     "output_type": "execute_result"
    }
   ],
   "source": [
    "type(c)"
   ]
  },
  {
   "cell_type": "code",
   "execution_count": 26,
   "id": "28adba55",
   "metadata": {},
   "outputs": [
    {
     "ename": "TypeError",
     "evalue": "cannot unpack non-iterable int object",
     "output_type": "error",
     "traceback": [
      "\u001b[0;31m---------------------------------------------------------------------------\u001b[0m",
      "\u001b[0;31mTypeError\u001b[0m                                 Traceback (most recent call last)",
      "\u001b[0;32m/tmp/ipykernel_4636/4091985639.py\u001b[0m in \u001b[0;36m<module>\u001b[0;34m\u001b[0m\n\u001b[0;32m----> 1\u001b[0;31m \u001b[0ma\u001b[0m\u001b[0;34m,\u001b[0m\u001b[0mb\u001b[0m\u001b[0;34m=\u001b[0m\u001b[0;36m1\u001b[0m \u001b[0;31m#not having enough input\u001b[0m\u001b[0;34m\u001b[0m\u001b[0;34m\u001b[0m\u001b[0m\n\u001b[0m",
      "\u001b[0;31mTypeError\u001b[0m: cannot unpack non-iterable int object"
     ]
    }
   ],
   "source": [
    "a,b=1 #not having enough input "
   ]
  },
  {
   "cell_type": "code",
   "execution_count": 27,
   "id": "5e26ecc0",
   "metadata": {},
   "outputs": [
    {
     "ename": "TypeError",
     "evalue": "type() takes 1 or 3 arguments",
     "output_type": "error",
     "traceback": [
      "\u001b[0;31m---------------------------------------------------------------------------\u001b[0m",
      "\u001b[0;31mTypeError\u001b[0m                                 Traceback (most recent call last)",
      "\u001b[0;32m/tmp/ipykernel_4636/3234477967.py\u001b[0m in \u001b[0;36m<module>\u001b[0;34m\u001b[0m\n\u001b[0;32m----> 1\u001b[0;31m \u001b[0mtype\u001b[0m\u001b[0;34m(\u001b[0m\u001b[0ma\u001b[0m\u001b[0;34m,\u001b[0m\u001b[0mb\u001b[0m\u001b[0;34m)\u001b[0m\u001b[0;34m\u001b[0m\u001b[0;34m\u001b[0m\u001b[0m\n\u001b[0m",
      "\u001b[0;31mTypeError\u001b[0m: type() takes 1 or 3 arguments"
     ]
    }
   ],
   "source": [
    "type(a,b) #at a time it takes one varibale"
   ]
  },
  {
   "cell_type": "code",
   "execution_count": 43,
   "id": "4d1131f4",
   "metadata": {},
   "outputs": [],
   "source": [
    "a,A,c,C=1,3,4,5,"
   ]
  },
  {
   "cell_type": "code",
   "execution_count": 44,
   "id": "efd27b3a",
   "metadata": {},
   "outputs": [],
   "source": [
    "c=b=a  "
   ]
  },
  {
   "cell_type": "code",
   "execution_count": 45,
   "id": "323fc961",
   "metadata": {},
   "outputs": [
    {
     "data": {
      "text/plain": [
       "int"
      ]
     },
     "execution_count": 45,
     "metadata": {},
     "output_type": "execute_result"
    }
   ],
   "source": [
    "type(b)"
   ]
  },
  {
   "cell_type": "code",
   "execution_count": 46,
   "id": "16e7f83a",
   "metadata": {},
   "outputs": [
    {
     "data": {
      "text/plain": [
       "1"
      ]
     },
     "execution_count": 46,
     "metadata": {},
     "output_type": "execute_result"
    }
   ],
   "source": [
    "b"
   ]
  },
  {
   "cell_type": "code",
   "execution_count": 47,
   "id": "eec51569",
   "metadata": {},
   "outputs": [
    {
     "data": {
      "text/plain": [
       "1"
      ]
     },
     "execution_count": 47,
     "metadata": {},
     "output_type": "execute_result"
    }
   ],
   "source": [
    "a"
   ]
  },
  {
   "cell_type": "code",
   "execution_count": 48,
   "id": "fee1dae7",
   "metadata": {},
   "outputs": [
    {
     "data": {
      "text/plain": [
       "1"
      ]
     },
     "execution_count": 48,
     "metadata": {},
     "output_type": "execute_result"
    }
   ],
   "source": [
    "c"
   ]
  },
  {
   "cell_type": "markdown",
   "id": "31477282",
   "metadata": {},
   "source": [
    "# User input "
   ]
  },
  {
   "cell_type": "code",
   "execution_count": 59,
   "id": "9720b465",
   "metadata": {},
   "outputs": [],
   "source": [
    "#type conversion"
   ]
  },
  {
   "cell_type": "code",
   "execution_count": 52,
   "id": "62d97f02",
   "metadata": {},
   "outputs": [
    {
     "name": "stdout",
     "output_type": "stream",
     "text": [
      "enter your name: ji\n",
      "your name is :ji\n"
     ]
    }
   ],
   "source": [
    "name=input(\"enter your name: \")\n",
    "print(f\"your name is :{name}\")"
   ]
  },
  {
   "cell_type": "code",
   "execution_count": 57,
   "id": "18865f62",
   "metadata": {},
   "outputs": [
    {
     "name": "stdout",
     "output_type": "stream",
     "text": [
      "enater value of a :8\n",
      "<class 'str'>\n",
      "enter a value of b:8\n",
      "<class 'str'>\n",
      "addition of a and b is :88\n"
     ]
    }
   ],
   "source": [
    "A=input(\"enater value of a :\") #here im not mention int\n",
    "print(type(A))\n",
    "B=input(\"enter a value of b:\")\n",
    "print(type(B))\n",
    "print(f\"addition of a and b is :{A+B}\")  #here it addition with out type casting "
   ]
  },
  {
   "cell_type": "code",
   "execution_count": 1,
   "id": "2a3a51f1",
   "metadata": {},
   "outputs": [
    {
     "name": "stdout",
     "output_type": "stream",
     "text": [
      "enater value of a :90\n",
      "<class 'int'>\n",
      "enter a value of b:44\n",
      "<class 'int'>\n",
      "addition of a and b is :134\n"
     ]
    }
   ],
   "source": [
    "A=int(input(\"enater value of a :\"))\n",
    "print(type(A))\n",
    "B=int(input(\"enter a value of b:\"))\n",
    "print(type(B))\n",
    "print(f\"addition of a and b is :{A+B}\")  #here it addition with type casting "
   ]
  },
  {
   "cell_type": "code",
   "execution_count": 12,
   "id": "34a4f2c8",
   "metadata": {},
   "outputs": [
    {
     "name": "stdout",
     "output_type": "stream",
     "text": [
      "data type before:<class 'str'>, valeu of A: 909\n",
      "Data type after conversion: <class 'int'>,valeu of A: 909\n"
     ]
    }
   ],
   "source": [
    "#str to int\n",
    "A=\"909\"\n",
    "print(f\"data type before:{type(A)}, valeu of A: {A}\")\n",
    "A=int(A)\n",
    "print(f\"Data type after conversion: {type(A)},valeu of A: {A}\")"
   ]
  },
  {
   "cell_type": "code",
   "execution_count": 67,
   "id": "27b2e0f6",
   "metadata": {},
   "outputs": [
    {
     "name": "stdout",
     "output_type": "stream",
     "text": [
      "data type before:<class 'float'>\n",
      "Data type after conversion:<class 'int'>\n"
     ]
    }
   ],
   "source": [
    "#float to int is allowed \n",
    "A=90.9\n",
    "print(f\"data type before:{type(A)}\")\n",
    "A=int(A)\n",
    "print(f\"Data type after conversion:{type(A)}\")"
   ]
  },
  {
   "cell_type": "code",
   "execution_count": 11,
   "id": "fea3adba",
   "metadata": {},
   "outputs": [
    {
     "name": "stdout",
     "output_type": "stream",
     "text": [
      "enter float value:7\n",
      "enter float value:54\n",
      "sum of a nd b is : 61.0\n"
     ]
    }
   ],
   "source": [
    "A=float(input(\"enter float value:\"))\n",
    "B=float(input(\"enter float value:\"))\n",
    "print(f\"sum of a nd b is : {A+B}\")"
   ]
  },
  {
   "cell_type": "code",
   "execution_count": 10,
   "id": "fc9e0389",
   "metadata": {},
   "outputs": [
    {
     "name": "stdout",
     "output_type": "stream",
     "text": [
      "enter float value:6\n",
      "enter float value:5\n",
      "sum of a nd b is : 11.0:\n"
     ]
    }
   ],
   "source": [
    "A=float(input(\"enter float value:\"))\n",
    "B=int(input(\"enter float value:\"))\n",
    "print(f\"sum of a nd b is : {A+B}\")"
   ]
  },
  {
   "cell_type": "code",
   "execution_count": 15,
   "id": "6a3be868",
   "metadata": {},
   "outputs": [
    {
     "name": "stdout",
     "output_type": "stream",
     "text": [
      "data type before:<class 'int'>, valeu of A: 51\n",
      "Data type after conversion:<class 'float'>, valeu of A: 51.0\n"
     ]
    }
   ],
   "source": [
    "#integer to float also allowed\n",
    "A=51\n",
    "print(f\"data type before:{type(A)}, valeu of A: {A}\")\n",
    "A=float(A)\n",
    "print(f\"Data type after conversion:{type(A)}, valeu of A: {A}\")"
   ]
  },
  {
   "cell_type": "code",
   "execution_count": 16,
   "id": "5d2e5544",
   "metadata": {},
   "outputs": [
    {
     "name": "stdout",
     "output_type": "stream",
     "text": [
      "data type before:<class 'int'>, valeu of A: 10\n",
      "Data type after conversion:<class 'bool'>, valeu of A: True\n"
     ]
    }
   ],
   "source": [
    "#integer to boolean\n",
    "A=10\n",
    "print(f\"data type before:{type(A)}, valeu of A: {A}\")\n",
    "A=bool(A)\n",
    "print(f\"Data type after conversion:{type(A)}, valeu of A: {A}\") #10 is true "
   ]
  },
  {
   "cell_type": "markdown",
   "id": "44988722",
   "metadata": {},
   "source": [
    "## for any non zero numbers andd string value into bool it give true as an anser\n",
    ">note true=1,false=0"
   ]
  },
  {
   "cell_type": "code",
   "execution_count": 17,
   "id": "e00e23fb",
   "metadata": {},
   "outputs": [
    {
     "name": "stdout",
     "output_type": "stream",
     "text": [
      "data type before:<class 'int'>, valeu of A: 0\n",
      "Data type after conversion:<class 'bool'>, valeu of A: False\n"
     ]
    }
   ],
   "source": [
    "A=0\n",
    "print(f\"data type before:{type(A)}, valeu of A: {A}\")\n",
    "A=bool(A)\n",
    "print(f\"Data type after conversion:{type(A)}, valeu of A: {A}\") #0 is false"
   ]
  },
  {
   "cell_type": "code",
   "execution_count": 19,
   "id": "dacb5e70",
   "metadata": {},
   "outputs": [
    {
     "name": "stdout",
     "output_type": "stream",
     "text": [
      "data type before:<class 'int'>, valeu of A: -5\n",
      "Data type after conversion:<class 'bool'>, valeu of A: True\n"
     ]
    }
   ],
   "source": [
    "A=-5  #when u give 0 it says false other then everythinh you get true\n",
    "print(f\"data type before:{type(A)}, valeu of A: {A}\")\n",
    "A=bool(A)\n",
    "print(f\"Data type after conversion:{type(A)}, valeu of A: {A}\") #-5 is True"
   ]
  },
  {
   "cell_type": "code",
   "execution_count": 20,
   "id": "5d302db0",
   "metadata": {},
   "outputs": [
    {
     "name": "stdout",
     "output_type": "stream",
     "text": [
      "data type before:<class 'str'>, valeu of A: barath\n",
      "Data type after conversion:<class 'bool'>, valeu of A: True\n"
     ]
    }
   ],
   "source": [
    "#sting to boolean\n",
    "A=\"barath\"  #when u give 0 it says false other then everythinh you get true\n",
    "print(f\"data type before:{type(A)}, valeu of A: {A}\")\n",
    "A=bool(A)\n",
    "print(f\"Data type after conversion:{type(A)}, valeu of A: {A}\") #string is True"
   ]
  },
  {
   "cell_type": "code",
   "execution_count": 21,
   "id": "13c57feb",
   "metadata": {},
   "outputs": [
    {
     "name": "stdout",
     "output_type": "stream",
     "text": [
      "data type before:<class 'str'>, valeu of A: \n",
      "Data type after conversion:<class 'bool'>, valeu of A: False\n"
     ]
    }
   ],
   "source": [
    "#empty string\n",
    "A=\"\"  #in string if you give an value it give True else false\n",
    "print(f\"data type before:{type(A)}, valeu of A: {A}\")\n",
    "A=bool(A)\n",
    "print(f\"Data type after conversion:{type(A)}, valeu of A: {A}\") # empty string is false"
   ]
  },
  {
   "cell_type": "code",
   "execution_count": 26,
   "id": "77f4779d",
   "metadata": {
    "scrolled": false
   },
   "outputs": [
    {
     "name": "stdout",
     "output_type": "stream",
     "text": [
      "data type before:<class 'str'>, valeu of A: \n"
     ]
    },
    {
     "ename": "ValueError",
     "evalue": "invalid literal for int() with base 10: ''",
     "output_type": "error",
     "traceback": [
      "\u001b[0;31m---------------------------------------------------------------------------\u001b[0m",
      "\u001b[0;31mValueError\u001b[0m                                Traceback (most recent call last)",
      "\u001b[0;32m/tmp/ipykernel_5541/1676540481.py\u001b[0m in \u001b[0;36m<module>\u001b[0;34m\u001b[0m\n\u001b[1;32m      2\u001b[0m \u001b[0mA\u001b[0m\u001b[0;34m=\u001b[0m\u001b[0;34m\"\"\u001b[0m\u001b[0;34m\u001b[0m\u001b[0;34m\u001b[0m\u001b[0m\n\u001b[1;32m      3\u001b[0m \u001b[0mprint\u001b[0m\u001b[0;34m(\u001b[0m\u001b[0;34mf\"data type before:{type(A)}, valeu of A: {A}\"\u001b[0m\u001b[0;34m)\u001b[0m\u001b[0;34m\u001b[0m\u001b[0;34m\u001b[0m\u001b[0m\n\u001b[0;32m----> 4\u001b[0;31m \u001b[0mA\u001b[0m\u001b[0;34m=\u001b[0m\u001b[0mint\u001b[0m\u001b[0;34m(\u001b[0m\u001b[0mA\u001b[0m\u001b[0;34m)\u001b[0m\u001b[0;34m\u001b[0m\u001b[0;34m\u001b[0m\u001b[0m\n\u001b[0m\u001b[1;32m      5\u001b[0m \u001b[0mprint\u001b[0m\u001b[0;34m(\u001b[0m\u001b[0;34mf\"Data type after conversion:{type(A)}, valeu of A: {A}\"\u001b[0m\u001b[0;34m)\u001b[0m \u001b[0;31m# empty string to int is not happen\u001b[0m\u001b[0;34m\u001b[0m\u001b[0;34m\u001b[0m\u001b[0m\n",
      "\u001b[0;31mValueError\u001b[0m: invalid literal for int() with base 10: ''"
     ]
    }
   ],
   "source": [
    "#empty string to int\n",
    "A=\"\"  \n",
    "print(f\"data type before:{type(A)}, valeu of A: {A}\")\n",
    "A=int(A)\n",
    "print(f\"Data type after conversion:{type(A)}, valeu of A: {A}\") # empty string to int is not happen"
   ]
  },
  {
   "cell_type": "code",
   "execution_count": 24,
   "id": "5ccc7498",
   "metadata": {},
   "outputs": [
    {
     "name": "stdout",
     "output_type": "stream",
     "text": [
      "data type before:<class 'list'>, valeu of A: []\n",
      "Data type after conversion:<class 'bool'>, valeu of A: False\n"
     ]
    }
   ],
   "source": [
    "#list to bool\n",
    "A=[]  #in list ALSO SAME if you give an value it give True else false\n",
    "print(f\"data type before:{type(A)}, valeu of A: {A}\")\n",
    "A=bool(A)\n",
    "print(f\"Data type after conversion:{type(A)}, valeu of A: {A}\") # empty list  is false"
   ]
  },
  {
   "cell_type": "code",
   "execution_count": 25,
   "id": "666a2908",
   "metadata": {},
   "outputs": [
    {
     "name": "stdout",
     "output_type": "stream",
     "text": [
      "data type before:<class 'list'>, valeu of A: [1, 2, 3]\n",
      "Data type after conversion:<class 'bool'>, valeu of A: True\n"
     ]
    }
   ],
   "source": [
    "#list to bool\n",
    "A=[1,2,3]  #in list ALSO SAME if you give an value it give True else false\n",
    "print(f\"data type before:{type(A)}, valeu of A: {A}\")\n",
    "A=bool(A)\n",
    "print(f\"Data type after conversion:{type(A)}, valeu of A: {A}\") # empty list  is false"
   ]
  },
  {
   "cell_type": "code",
   "execution_count": 44,
   "id": "f29e8b7b",
   "metadata": {},
   "outputs": [
    {
     "name": "stdout",
     "output_type": "stream",
     "text": [
      "what is your name:barath\n",
      "where are you from:salem\n",
      "Birth year:2001\n",
      "what is your weight:50\n",
      "/nwelcome,barath\n",
      "your from :salem\n",
      "your Birth year is:2001\n",
      "your weight is :50 kgs\n",
      "you age is :21\n"
     ]
    }
   ],
   "source": [
    "name,place,year,weight=input(\"what is your name:\"),input(\"where are you from:\"),int(input(\"Birth year:\")),int(input(\"what is your weight:\"))\n",
    "greet=\"welcome\"\n",
    "age=2022-year\n",
    "\n",
    "\n",
    "print(f\"\"\"{greet},{name}\n",
    "your from :{place}\n",
    "your Birth year is:{year}\n",
    "your weight is :{weight} kgs\n",
    "you age is :{age}\"\"\")"
   ]
  },
  {
   "cell_type": "markdown",
   "id": "400bfa9a",
   "metadata": {},
   "source": [
    "# memorey block"
   ]
  },
  {
   "cell_type": "markdown",
   "id": "1c75f803",
   "metadata": {},
   "source": [
    ">when ever u assign a value it will allocate some memory if you aaaign Same value for two variable it reuse it not new space allocation\n",
    "\n",
    "* it gives default size of string is byte"
   ]
  },
  {
   "cell_type": "code",
   "execution_count": 73,
   "id": "0d33ac7a",
   "metadata": {},
   "outputs": [],
   "source": [
    "a=\"barath\""
   ]
  },
  {
   "cell_type": "code",
   "execution_count": 79,
   "id": "092004c7",
   "metadata": {},
   "outputs": [],
   "source": [
    "b=1"
   ]
  },
  {
   "cell_type": "code",
   "execution_count": 80,
   "id": "c71fcc85",
   "metadata": {},
   "outputs": [],
   "source": [
    "c=\"barath\""
   ]
  },
  {
   "cell_type": "code",
   "execution_count": 81,
   "id": "f497d737",
   "metadata": {},
   "outputs": [
    {
     "data": {
      "text/plain": [
       "140556939065392"
      ]
     },
     "execution_count": 81,
     "metadata": {},
     "output_type": "execute_result"
    }
   ],
   "source": [
    "id(a) # id is used for check memory location "
   ]
  },
  {
   "cell_type": "code",
   "execution_count": 82,
   "id": "d20c340e",
   "metadata": {},
   "outputs": [
    {
     "data": {
      "text/plain": [
       "140556992117040"
      ]
     },
     "execution_count": 82,
     "metadata": {},
     "output_type": "execute_result"
    }
   ],
   "source": [
    "id(b)"
   ]
  },
  {
   "cell_type": "code",
   "execution_count": 78,
   "id": "9a744255",
   "metadata": {},
   "outputs": [
    {
     "data": {
      "text/plain": [
       "140556939065392"
      ]
     },
     "execution_count": 78,
     "metadata": {},
     "output_type": "execute_result"
    }
   ],
   "source": [
    "id(c)"
   ]
  },
  {
   "cell_type": "code",
   "execution_count": 72,
   "id": "455bd740",
   "metadata": {},
   "outputs": [
    {
     "name": "stdout",
     "output_type": "stream",
     "text": [
      "140556939065392 140556992117328 140556939065392\n"
     ]
    }
   ],
   "source": [
    "print(id(a),id(b),id(c))  #string is going to be larger storage"
   ]
  },
  {
   "cell_type": "markdown",
   "id": "9d7df197",
   "metadata": {},
   "source": [
    "# To do "
   ]
  },
  {
   "cell_type": "markdown",
   "id": "0226a925",
   "metadata": {},
   "source": [
    "# Tasks\n",
    "1.find all type of error enocunted and why include examples?\n",
    "2.take input of the users A and B print thier sum ,multiplication,squre of the numbers\n",
    "3.how many reserved key words are thre why we not use the as variable name?\n",
    "4.create email id wirth ur user input in folllowing format\n",
    "lastname.firstname@gmail.com\n",
    "5.try to print the following lines \n",
    "-HI iam barath\n",
    "-My address is 1/83 \n",
    "-i earn 20$ daily \n",
    "6.take user input (name,address,dob,etc..)to fill a form college and their mail ids\n",
    "7.how to convert following \n",
    "-\"22.4\" into 22\n",
    "-\"22\"into complex \n",
    "\n",
    "\n",
    "\n"
   ]
  },
  {
   "cell_type": "markdown",
   "id": "7089940e",
   "metadata": {},
   "source": [
    "#  1.print as a varible by mistake if we give again we cant use that as a function\n",
    " # we cant give two variable for one value in same line\n",
    " # we can't check varible type at same time like type(a,b)\n",
    " # we can't use resrved words as a varibale name python wont allow\n",
    " # if you give empty str to bool it will give false \n",
    " # you mention int and you give float vale it throws a error\n",
    "\n"
   ]
  },
  {
   "cell_type": "markdown",
   "id": "830171b8",
   "metadata": {},
   "source": [
    "# 2 .take input of the users A and B print thier sum ,multiplication,squre of the numbers"
   ]
  },
  {
   "cell_type": "code",
   "execution_count": 87,
   "id": "cb89889d",
   "metadata": {},
   "outputs": [
    {
     "name": "stdout",
     "output_type": "stream",
     "text": [
      "Enter Value of A :4\n",
      "Enter Value of B :4\n",
      "sum of A and B is :8,\n",
      "multiplication of A and B is :4,\n",
      "sqr of A is :16,\n",
      "sqr of B is :16.\n"
     ]
    }
   ],
   "source": [
    "A=int(input(\"Enter Value of A :\"))\n",
    "B=int(input(\"Enter Value of B :\"))\n",
    "Sum=A+B\n",
    "mul=A*b\n",
    "sqr_of_A=A**2\n",
    "sqr_of_B=B**2\n",
    "print(f\"sum of A and B is :{Sum},\\nmultiplication of A and B is :{mul},\\nsqr of A is :{sqr_of_A},\\nsqr of B is :{sqr_of_B}.\")"
   ]
  },
  {
   "cell_type": "markdown",
   "id": "976129d3",
   "metadata": {},
   "source": [
    "#  Reserved key words"
   ]
  },
  {
   "cell_type": "markdown",
   "id": "45cd9302",
   "metadata": {},
   "source": [
    "False               break               for                 not\n",
    "None                class               from                or\n",
    "True                continue            global              pass\n",
    "__peg_parser__      def                 if                  raise\n",
    "and                 del                 import              return\n",
    "as                  elif                in                  try\n",
    "assert              else                is                  while\n",
    "async               except              lambda              with\n",
    "await               finally             nonlocal            yield\n"
   ]
  },
  {
   "cell_type": "markdown",
   "id": "60bf35a0",
   "metadata": {},
   "source": [
    "# 4.create email id with ur user input in folllowing format\n",
    " # lastname.firstname@gmail.com"
   ]
  },
  {
   "cell_type": "code",
   "execution_count": 90,
   "id": "e9c0a79f",
   "metadata": {},
   "outputs": [
    {
     "name": "stdout",
     "output_type": "stream",
     "text": [
      "enter your lastname:murugan18\n",
      "enter your firstname:barath\n",
      "your mail id is :murugan18.barath@gmail.com\n"
     ]
    }
   ],
   "source": [
    "lastname=input(\"enter your lastname:\")\n",
    "firstname=input(\"enter your firstname:\")\n",
    "print(f\"your mail id is :{lastname}.{firstname}@gmail.com\")"
   ]
  },
  {
   "cell_type": "markdown",
   "id": "21ad6666",
   "metadata": {},
   "source": [
    "#  5.print"
   ]
  },
  {
   "cell_type": "code",
   "execution_count": 92,
   "id": "f919c04b",
   "metadata": {},
   "outputs": [
    {
     "name": "stdout",
     "output_type": "stream",
     "text": [
      "HI iam barath\n",
      "My address is salem\n",
      "I earn 20$ daily \n"
     ]
    }
   ],
   "source": [
    "print(\"\"\"HI iam barath\n",
    "My address is salem\n",
    "I earn 20$ daily \"\"\")"
   ]
  },
  {
   "cell_type": "markdown",
   "id": "6f6b2b5c",
   "metadata": {},
   "source": [
    "# 6.user input form"
   ]
  },
  {
   "cell_type": "code",
   "execution_count": 93,
   "id": "29d1e7a0",
   "metadata": {},
   "outputs": [
    {
     "name": "stdout",
     "output_type": "stream",
     "text": [
      "enter your name:Barath\n",
      "enter your addressSalem\n",
      "enter your 10 digit mob no:8344693333\n",
      "enter your college name:DGCT\n",
      "enter your blood group :A+\n",
      "enter your mail id ;barathmurugan@gmail.com\n"
     ]
    }
   ],
   "source": [
    "name=input(\"enter your name:\")\n",
    "address=input(\"enter your address\")\n",
    "mobile_no=int(input(\"enter your 10 digit mob no:\"))\n",
    "clg_name=input(\"enter your college name:\")\n",
    "blood_grp=input(\"enter your blood group :\")\n",
    "maild=input(\"enter your mail id ;\")"
   ]
  },
  {
   "cell_type": "code",
   "execution_count": 96,
   "id": "3a103e60",
   "metadata": {},
   "outputs": [
    {
     "name": "stdout",
     "output_type": "stream",
     "text": [
      "Name:Barath,\n",
      "Adress=Salem \n",
      "Mob No:8344693333 \n",
      "College name:DGCT \n",
      "Blood group is :A+ \n",
      "Email:barathmurugan@gmail.com\n"
     ]
    }
   ],
   "source": [
    "print(f\"Name:{name},\\nAdress={address} \\nMob No:{mobile_no} \\nCollege name:{clg_name} \\nBlood group is :{blood_grp} \\nEmail:{maild}\")"
   ]
  },
  {
   "cell_type": "markdown",
   "id": "66b8c713",
   "metadata": {},
   "source": [
    "# 7.how to convert following \n",
    "-\"22.4\" into 22\n",
    "-\"22\"into complex \n"
   ]
  },
  {
   "cell_type": "code",
   "execution_count": 98,
   "id": "024d1d77",
   "metadata": {},
   "outputs": [
    {
     "ename": "ValueError",
     "evalue": "invalid literal for int() with base 10: '22.4'",
     "output_type": "error",
     "traceback": [
      "\u001b[0;31m---------------------------------------------------------------------------\u001b[0m",
      "\u001b[0;31mValueError\u001b[0m                                Traceback (most recent call last)",
      "\u001b[0;32m/tmp/ipykernel_5541/1262363109.py\u001b[0m in \u001b[0;36m<module>\u001b[0;34m\u001b[0m\n\u001b[1;32m      1\u001b[0m \u001b[0ma\u001b[0m\u001b[0;34m=\u001b[0m\u001b[0;34m\"22.4\"\u001b[0m\u001b[0;34m\u001b[0m\u001b[0;34m\u001b[0m\u001b[0m\n\u001b[0;32m----> 2\u001b[0;31m \u001b[0mb\u001b[0m\u001b[0;34m=\u001b[0m\u001b[0mint\u001b[0m\u001b[0;34m(\u001b[0m\u001b[0ma\u001b[0m\u001b[0;34m)\u001b[0m\u001b[0;34m\u001b[0m\u001b[0;34m\u001b[0m\u001b[0m\n\u001b[0m\u001b[1;32m      3\u001b[0m \u001b[0mprint\u001b[0m\u001b[0;34m(\u001b[0m\u001b[0mb\u001b[0m\u001b[0;34m)\u001b[0m\u001b[0;34m\u001b[0m\u001b[0;34m\u001b[0m\u001b[0m\n",
      "\u001b[0;31mValueError\u001b[0m: invalid literal for int() with base 10: '22.4'"
     ]
    }
   ],
   "source": [
    "a=\"22.4\"\n",
    "b=int(a)\n",
    "print(b) #we cant change float to int viceversa is possible int to float"
   ]
  },
  {
   "cell_type": "code",
   "execution_count": 99,
   "id": "73d3613d",
   "metadata": {},
   "outputs": [
    {
     "name": "stdout",
     "output_type": "stream",
     "text": [
      "(22+0j)\n"
     ]
    }
   ],
   "source": [
    "a=\"22\"\n",
    "b=complex(a)\n",
    "print(b)"
   ]
  },
  {
   "cell_type": "code",
   "execution_count": null,
   "id": "4020848c",
   "metadata": {},
   "outputs": [],
   "source": []
  }
 ],
 "metadata": {
  "kernelspec": {
   "display_name": "Python 3",
   "language": "python",
   "name": "python3"
  },
  "language_info": {
   "codemirror_mode": {
    "name": "ipython",
    "version": 3
   },
   "file_extension": ".py",
   "mimetype": "text/x-python",
   "name": "python",
   "nbconvert_exporter": "python",
   "pygments_lexer": "ipython3",
   "version": "3.9.15"
  }
 },
 "nbformat": 4,
 "nbformat_minor": 5
}
