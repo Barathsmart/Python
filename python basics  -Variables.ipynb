{
 "cells": [
  {
   "cell_type": "markdown",
   "id": "4f787dbb",
   "metadata": {},
   "source": [
    "# Programming is not about take notes its all about practice"
   ]
  },
  {
   "cell_type": "code",
   "execution_count": 2,
   "id": "02285d3a",
   "metadata": {},
   "outputs": [
    {
     "name": "stdout",
     "output_type": "stream",
     "text": [
      "Barath\n"
     ]
    }
   ],
   "source": [
    "print(\"Barath\")  #20% coding and 80 %debugging first read the error, before asking anyone"
   ]
  },
  {
   "cell_type": "code",
   "execution_count": 1,
   "id": "2f08b726",
   "metadata": {},
   "outputs": [],
   "source": [
    "#python is a interpreted ,object-oriented,high level language,user friendly,human can understand."
   ]
  },
  {
   "cell_type": "raw",
   "id": "065085f2",
   "metadata": {},
   "source": [
    "Easyiest programming language to learn easy to learn ,so many inbuild libraries ,Fun to use, case sensitive,self type language\n",
    "\n",
    "#where we can use python\n",
    "1.System Programming\n",
    "2.GUI inerface(Any kind of GUI is possible using some library)\n",
    "3.Web Scrapping \n",
    "4.DB(mogodb,sql..etc)\n",
    "5.Scintific program()\n",
    "6.Games\n",
    "7.Image processing\n",
    "8.Robotics\n",
    "9.Data science,Artificial Intelligence,Data Mining"
   ]
  },
  {
   "cell_type": "code",
   "execution_count": 34,
   "id": "ca62954e",
   "metadata": {},
   "outputs": [],
   "source": [
    "import warnings\n",
    "warnings.filterwarnings(\"ignore\")"
   ]
  },
  {
   "cell_type": "code",
   "execution_count": 24,
   "id": "4cad6d82",
   "metadata": {},
   "outputs": [
    {
     "name": "stdout",
     "output_type": "stream",
     "text": [
      "The Zen of Python, by Tim Peters\n",
      "\n",
      "Beautiful is better than ugly.\n",
      "Explicit is better than implicit.\n",
      "Simple is better than complex.\n",
      "Complex is better than complicated.\n",
      "Flat is better than nested.\n",
      "Sparse is better than dense.\n",
      "Readability counts.\n",
      "Special cases aren't special enough to break the rules.\n",
      "Although practicality beats purity.\n",
      "Errors should never pass silently.\n",
      "Unless explicitly silenced.\n",
      "In the face of ambiguity, refuse the temptation to guess.\n",
      "There should be one-- and preferably only one --obvious way to do it.\n",
      "Although that way may not be obvious at first unless you're Dutch.\n",
      "Now is better than never.\n",
      "Although never is often better than *right* now.\n",
      "If the implementation is hard to explain, it's a bad idea.\n",
      "If the implementation is easy to explain, it may be a good idea.\n",
      "Namespaces are one honking great idea -- let's do more of those!\n"
     ]
    }
   ],
   "source": [
    "#Theme of python tag line \n",
    "import this"
   ]
  },
  {
   "cell_type": "code",
   "execution_count": 1,
   "id": "211422b8",
   "metadata": {},
   "outputs": [
    {
     "name": "stdout",
     "output_type": "stream",
     "text": [
      "3.9.15\n"
     ]
    }
   ],
   "source": [
    "from platform import python_version\n",
    "print(python_version())"
   ]
  },
  {
   "cell_type": "code",
   "execution_count": 35,
   "id": "aae3f7c6",
   "metadata": {},
   "outputs": [
    {
     "data": {
      "text/plain": [
       "0.42857142857142855"
      ]
     },
     "execution_count": 35,
     "metadata": {},
     "output_type": "execute_result"
    }
   ],
   "source": [
    "3/7"
   ]
  },
  {
   "cell_type": "raw",
   "id": "eb7841e5",
   "metadata": {},
   "source": [
    "system->hard disk->ram->cpu->action==for play a movie it need some space where it will be process"
   ]
  },
  {
   "cell_type": "code",
   "execution_count": 36,
   "id": "789f0c86",
   "metadata": {},
   "outputs": [
    {
     "data": {
      "text/plain": [
       "3"
      ]
     },
     "execution_count": 36,
     "metadata": {},
     "output_type": "execute_result"
    }
   ],
   "source": [
    "1+2"
   ]
  },
  {
   "cell_type": "markdown",
   "id": "f07d0a52",
   "metadata": {},
   "source": [
    "# variable\n",
    "variable is a entity where you can store any value then process it later by calling its name\n",
    "\n",
    "In python no need to specipy variable type which is not available in other programming language\n"
   ]
  },
  {
   "cell_type": "code",
   "execution_count": 37,
   "id": "a4bfe5f5",
   "metadata": {},
   "outputs": [],
   "source": [
    "a=10 #int data try to store in a variable "
   ]
  },
  {
   "cell_type": "code",
   "execution_count": 39,
   "id": "061ecea5",
   "metadata": {},
   "outputs": [
    {
     "data": {
      "text/plain": [
       "10"
      ]
     },
     "execution_count": 39,
     "metadata": {},
     "output_type": "execute_result"
    }
   ],
   "source": [
    "a #its available in volatile memory only not ROM"
   ]
  },
  {
   "cell_type": "code",
   "execution_count": 40,
   "id": "04a19431",
   "metadata": {},
   "outputs": [
    {
     "data": {
      "text/plain": [
       "int"
      ]
     },
     "execution_count": 40,
     "metadata": {},
     "output_type": "execute_result"
    }
   ],
   "source": [
    "type(a)"
   ]
  },
  {
   "cell_type": "code",
   "execution_count": 41,
   "id": "d006e022",
   "metadata": {},
   "outputs": [],
   "source": [
    "b=40.09"
   ]
  },
  {
   "cell_type": "code",
   "execution_count": 42,
   "id": "0726009f",
   "metadata": {},
   "outputs": [
    {
     "data": {
      "text/plain": [
       "float"
      ]
     },
     "execution_count": 42,
     "metadata": {},
     "output_type": "execute_result"
    }
   ],
   "source": [
    "type(b)"
   ]
  },
  {
   "cell_type": "code",
   "execution_count": 43,
   "id": "d97afddf",
   "metadata": {},
   "outputs": [],
   "source": [
    "c=\"barath\"# combinantion of character is string"
   ]
  },
  {
   "cell_type": "code",
   "execution_count": 44,
   "id": "0e872e74",
   "metadata": {},
   "outputs": [
    {
     "data": {
      "text/plain": [
       "str"
      ]
     },
     "execution_count": 44,
     "metadata": {},
     "output_type": "execute_result"
    }
   ],
   "source": [
    "type(c)"
   ]
  },
  {
   "cell_type": "code",
   "execution_count": 47,
   "id": "31132be0",
   "metadata": {},
   "outputs": [],
   "source": [
    "d=6+5j #for complex here we are using \"j\" notatin j for imaginary value in maths its actually i"
   ]
  },
  {
   "cell_type": "code",
   "execution_count": 48,
   "id": "e9e61d9f",
   "metadata": {},
   "outputs": [
    {
     "data": {
      "text/plain": [
       "complex"
      ]
     },
     "execution_count": 48,
     "metadata": {},
     "output_type": "execute_result"
    }
   ],
   "source": [
    "type(d)"
   ]
  },
  {
   "cell_type": "code",
   "execution_count": 49,
   "id": "e8693a6f",
   "metadata": {},
   "outputs": [],
   "source": [
    "g=True# T in caps always"
   ]
  },
  {
   "cell_type": "code",
   "execution_count": 50,
   "id": "635a28d6",
   "metadata": {},
   "outputs": [
    {
     "data": {
      "text/plain": [
       "bool"
      ]
     },
     "execution_count": 50,
     "metadata": {},
     "output_type": "execute_result"
    }
   ],
   "source": [
    "type(g)"
   ]
  },
  {
   "cell_type": "raw",
   "id": "2a8b6fe7",
   "metadata": {},
   "source": [
    "Variable Names\n",
    "A variable can have a short name (like x and y) or a more descriptive name (age, carname, total_volume).\n",
    "Rules for Python variables:\n",
    "A variable name must start with a letter or the underscore character\n",
    "A variable name cannot start with a number\n",
    "A variable name can only contain alpha-numeric characters and underscores (A-z, 0-9, and _ )\n",
    "Variable names are case-sensitive (age, Age and AGE are three different variables)"
   ]
  },
  {
   "cell_type": "code",
   "execution_count": 60,
   "id": "c7261a19",
   "metadata": {},
   "outputs": [],
   "source": [
    "#Many Values to Multiple Variables\n",
    "x, y, z = \"Orange\", \"Banana\", 5+3j #internally it will map in sequential format(order is must 3=3 ,4=3 is not work)"
   ]
  },
  {
   "cell_type": "code",
   "execution_count": 56,
   "id": "87dda700",
   "metadata": {},
   "outputs": [
    {
     "data": {
      "text/plain": [
       "'Orange'"
      ]
     },
     "execution_count": 56,
     "metadata": {},
     "output_type": "execute_result"
    }
   ],
   "source": [
    "x"
   ]
  },
  {
   "cell_type": "code",
   "execution_count": 57,
   "id": "d61656c6",
   "metadata": {},
   "outputs": [
    {
     "data": {
      "text/plain": [
       "'Banana'"
      ]
     },
     "execution_count": 57,
     "metadata": {},
     "output_type": "execute_result"
    }
   ],
   "source": [
    "y"
   ]
  },
  {
   "cell_type": "code",
   "execution_count": 59,
   "id": "a23b4122",
   "metadata": {},
   "outputs": [
    {
     "data": {
      "text/plain": [
       "complex"
      ]
     },
     "execution_count": 59,
     "metadata": {},
     "output_type": "execute_result"
    }
   ],
   "source": [
    "type(z)"
   ]
  },
  {
   "cell_type": "code",
   "execution_count": 73,
   "id": "bb7e452e",
   "metadata": {},
   "outputs": [
    {
     "data": {
      "text/plain": [
       "(6+5j)"
      ]
     },
     "execution_count": 73,
     "metadata": {},
     "output_type": "execute_result"
    }
   ],
   "source": [
    "d"
   ]
  },
  {
   "cell_type": "code",
   "execution_count": 62,
   "id": "330d22e0",
   "metadata": {},
   "outputs": [
    {
     "data": {
      "text/plain": [
       "complex"
      ]
     },
     "execution_count": 62,
     "metadata": {},
     "output_type": "execute_result"
    }
   ],
   "source": [
    "type(d)"
   ]
  },
  {
   "cell_type": "code",
   "execution_count": 69,
   "id": "650be507",
   "metadata": {},
   "outputs": [
    {
     "data": {
      "text/plain": [
       "(6-5j)"
      ]
     },
     "execution_count": 69,
     "metadata": {},
     "output_type": "execute_result"
    }
   ],
   "source": [
    "d.conjugate() #press tab for get inbuild function after . "
   ]
  },
  {
   "cell_type": "code",
   "execution_count": 71,
   "id": "23ccd738",
   "metadata": {},
   "outputs": [
    {
     "data": {
      "text/plain": [
       "6.0"
      ]
     },
     "execution_count": 71,
     "metadata": {},
     "output_type": "execute_result"
    }
   ],
   "source": [
    "d.real"
   ]
  },
  {
   "cell_type": "code",
   "execution_count": 72,
   "id": "bd54bdf6",
   "metadata": {},
   "outputs": [
    {
     "data": {
      "text/plain": [
       "5.0"
      ]
     },
     "execution_count": 72,
     "metadata": {},
     "output_type": "execute_result"
    }
   ],
   "source": [
    "d.imag"
   ]
  },
  {
   "cell_type": "code",
   "execution_count": 76,
   "id": "0f4c3420",
   "metadata": {},
   "outputs": [
    {
     "ename": "TypeError",
     "evalue": "can only concatenate str (not \"int\") to str",
     "output_type": "error",
     "traceback": [
      "\u001b[0;31m---------------------------------------------------------------------------\u001b[0m",
      "\u001b[0;31mTypeError\u001b[0m                                 Traceback (most recent call last)",
      "\u001b[0;32m/tmp/ipykernel_5961/365303452.py\u001b[0m in \u001b[0;36m<module>\u001b[0;34m\u001b[0m\n\u001b[0;32m----> 1\u001b[0;31m \u001b[0mc\u001b[0m\u001b[0;34m+\u001b[0m\u001b[0;36m4\u001b[0m\u001b[0;34m\u001b[0m\u001b[0;34m\u001b[0m\u001b[0m\n\u001b[0m",
      "\u001b[0;31mTypeError\u001b[0m: can only concatenate str (not \"int\") to str"
     ]
    }
   ],
   "source": [
    "c+4 # string to integer its not possible you need to type caste"
   ]
  },
  {
   "cell_type": "code",
   "execution_count": 78,
   "id": "d60204e7",
   "metadata": {},
   "outputs": [
    {
     "data": {
      "text/plain": [
       "'barath4'"
      ]
     },
     "execution_count": 78,
     "metadata": {},
     "output_type": "execute_result"
    }
   ],
   "source": [
    "c+\"4\""
   ]
  },
  {
   "cell_type": "code",
   "execution_count": 79,
   "id": "d6ec99b5",
   "metadata": {},
   "outputs": [
    {
     "data": {
      "text/plain": [
       "'barath4'"
      ]
     },
     "execution_count": 79,
     "metadata": {},
     "output_type": "execute_result"
    }
   ],
   "source": [
    "c+str(4)"
   ]
  },
  {
   "cell_type": "code",
   "execution_count": 83,
   "id": "e06aab24",
   "metadata": {},
   "outputs": [
    {
     "data": {
      "text/plain": [
       "3"
      ]
     },
     "execution_count": 83,
     "metadata": {},
     "output_type": "execute_result"
    }
   ],
   "source": [
    "True+True+True+False #internally True means 1 False is 0"
   ]
  },
  {
   "cell_type": "code",
   "execution_count": 84,
   "id": "33805cfd",
   "metadata": {},
   "outputs": [
    {
     "name": "stdout",
     "output_type": "stream",
     "text": [
      "3\n"
     ]
    },
    {
     "data": {
      "text/plain": [
       "'3'"
      ]
     },
     "execution_count": 84,
     "metadata": {},
     "output_type": "execute_result"
    }
   ],
   "source": [
    "input()  #user input this is pre defined function real time input "
   ]
  },
  {
   "cell_type": "code",
   "execution_count": 103,
   "id": "4c794a82",
   "metadata": {},
   "outputs": [
    {
     "name": "stdout",
     "output_type": "stream",
     "text": [
      "10\n"
     ]
    }
   ],
   "source": [
    "a=input() #this input function always try to convert string only "
   ]
  },
  {
   "cell_type": "code",
   "execution_count": 104,
   "id": "140b08ca",
   "metadata": {},
   "outputs": [
    {
     "data": {
      "text/plain": [
       "'10'"
      ]
     },
     "execution_count": 104,
     "metadata": {},
     "output_type": "execute_result"
    }
   ],
   "source": [
    "a"
   ]
  },
  {
   "cell_type": "code",
   "execution_count": 105,
   "id": "d4ce0ba3",
   "metadata": {},
   "outputs": [],
   "source": [
    "b=\"hi\""
   ]
  },
  {
   "cell_type": "code",
   "execution_count": 106,
   "id": "9abe74ad",
   "metadata": {},
   "outputs": [
    {
     "data": {
      "text/plain": [
       "'10hi'"
      ]
     },
     "execution_count": 106,
     "metadata": {},
     "output_type": "execute_result"
    }
   ],
   "source": [
    "a+b #so we need to typecaste into str put inside input function"
   ]
  },
  {
   "cell_type": "code",
   "execution_count": 96,
   "id": "597ce9d3",
   "metadata": {},
   "outputs": [
    {
     "name": "stdout",
     "output_type": "stream",
     "text": [
      "4\n"
     ]
    }
   ],
   "source": [
    "a=str(input())"
   ]
  },
  {
   "cell_type": "code",
   "execution_count": 114,
   "id": "94fd1773",
   "metadata": {},
   "outputs": [
    {
     "data": {
      "text/plain": [
       "'deepakhi'"
      ]
     },
     "execution_count": 114,
     "metadata": {},
     "output_type": "execute_result"
    }
   ],
   "source": [
    "a+b"
   ]
  },
  {
   "cell_type": "code",
   "execution_count": 100,
   "id": "c141faa2",
   "metadata": {},
   "outputs": [
    {
     "data": {
      "text/plain": [
       "139926302063920"
      ]
     },
     "execution_count": 100,
     "metadata": {},
     "output_type": "execute_result"
    }
   ],
   "source": [
    "id(a) #memory allocation of variable "
   ]
  },
  {
   "cell_type": "code",
   "execution_count": 107,
   "id": "2278ed77",
   "metadata": {},
   "outputs": [
    {
     "data": {
      "text/plain": [
       "'/home/barath/BARATH '"
      ]
     },
     "execution_count": 107,
     "metadata": {},
     "output_type": "execute_result"
    }
   ],
   "source": [
    "pwd() # present working directory"
   ]
  },
  {
   "cell_type": "code",
   "execution_count": 135,
   "id": "193af0ed",
   "metadata": {},
   "outputs": [],
   "source": [
    "a=\"ajith\""
   ]
  },
  {
   "cell_type": "code",
   "execution_count": 136,
   "id": "e8d6bdba",
   "metadata": {},
   "outputs": [
    {
     "data": {
      "text/plain": [
       "'tija'"
      ]
     },
     "execution_count": 136,
     "metadata": {},
     "output_type": "execute_result"
    }
   ],
   "source": [
    "a[-2:]"
   ]
  },
  {
   "cell_type": "code",
   "execution_count": 138,
   "id": "61d24bf2",
   "metadata": {},
   "outputs": [
    {
     "data": {
      "text/plain": [
       "'th'"
      ]
     },
     "execution_count": 138,
     "metadata": {},
     "output_type": "execute_result"
    }
   ],
   "source": [
    "a[-2:]"
   ]
  },
  {
   "cell_type": "code",
   "execution_count": null,
   "id": "39134d23",
   "metadata": {},
   "outputs": [],
   "source": []
  }
 ],
 "metadata": {
  "kernelspec": {
   "display_name": "Python 3",
   "language": "python",
   "name": "python3"
  },
  "language_info": {
   "codemirror_mode": {
    "name": "ipython",
    "version": 3
   },
   "file_extension": ".py",
   "mimetype": "text/x-python",
   "name": "python",
   "nbconvert_exporter": "python",
   "pygments_lexer": "ipython3",
   "version": "3.9.15"
  }
 },
 "nbformat": 4,
 "nbformat_minor": 5
}
